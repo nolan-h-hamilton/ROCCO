{
 "cells": [
  {
   "cell_type": "markdown",
   "id": "642e7df9",
   "metadata": {},
   "source": [
    "# Quick Start Demo\n",
    "ROCCO usage examples on a set of 10 publicly available ATAC-seq alignments.\n",
    "\n",
    "\n",
    "Note, this demo assumes the ROCCO repository has been $\\text{cloned}^1$ and the current working directory is: `/path/to/ROCCO/demo/`\n",
    "\n",
    "$^1$:  `git clone https://github.com/nolan-h-hamilton/ROCCO.git`"
   ]
  },
  {
   "cell_type": "markdown",
   "id": "101daed0",
   "metadata": {},
   "source": [
    "## Obtaining Data\n",
    "**Download and index** the ATAC-seq alignments (human lymphoblast) used for this demo:\n",
    "```\n",
    "xargs -L 1 curl -O -J -L < demo_bams.txt\n",
    "```\n",
    "in the current working directory, followed by:\n",
    "```\n",
    "samtools index -M *.bam\n",
    "```\n",
    "at the command line. Note that these BAM files have already been filtered as part of the ENCODE ATAC-seq [pipeline](https://www.encodeproject.org/pipelines/ENCPL344QWT/). As is customary at the peak calling stage, ROCCO assumes a suitable QC protocol has already been applied.\n"
   ]
  },
  {
   "cell_type": "markdown",
   "id": "c72e23a2",
   "metadata": {},
   "source": [
    "## `.BAM --> .WIG`: [`rocco prep`](https://nolan-h-hamilton.github.io/ROCCO/rocco/prep.html)\n",
    "In this step, we convert the alignments into [wiggle files](https://genome.ucsc.edu/goldenPath/help/wiggle.html) and structures data for construction of the sample-by-locus input matrix, $\\mathbf{S} \\in \\mathbb{R}^{K \\times n}$.\n",
    "\n",
    "See the [documentation](https://nolan-h-hamilton.github.io/ROCCO/rocco/prep.html) for additional details regarding this step.\n"
   ]
  },
  {
   "cell_type": "code",
   "execution_count": null,
   "id": "ef44cb63",
   "metadata": {},
   "outputs": [],
   "source": [
    "!rocco prep --bamdir . -s hg38"
   ]
  },
  {
   "cell_type": "markdown",
   "id": "7050c467",
   "metadata": {},
   "source": [
    "## Example I: Run ROCCO on `chr21` with default parameters\n",
    "\n",
    "Track data for each chromosome is now available in `prep`'s output `tracks_chr[]` directories.\n",
    "\n",
    "See subcommand documentation for [`rocco chrom`](https://nolan-h-hamilton.github.io/ROCCO/rocco/chrom.html)."
   ]
  },
  {
   "cell_type": "code",
   "execution_count": null,
   "id": "cadde6dc",
   "metadata": {},
   "outputs": [],
   "source": [
    "!rocco chrom --wig_path tracks_chr21 --chrom chr21"
   ]
  },
  {
   "cell_type": "markdown",
   "metadata": {},
   "source": [
    "#### Peak score filtering\n",
    "In this call, require peak scores of at least 50 for inclusion in the final annotation"
   ]
  },
  {
   "cell_type": "code",
   "execution_count": null,
   "metadata": {},
   "outputs": [],
   "source": [
    "!rocco chrom --wig_path tracks_chr21 --chrom chr21 --filter_by_score 50"
   ]
  },
  {
   "cell_type": "markdown",
   "id": "d447f31f",
   "metadata": {},
   "source": [
    "## Example II: Run ROCCO using a `-p/--param_file`\n",
    "\n",
    "Copy and paste the following into a file named **test_params.csv**:\n",
    "```\n",
    "chromosome,input_path,budget,gamma,tau,c1,c2,c3\n",
    "chr19,tracks_chr19,0.05,NULL,NULL,NULL,NULL,NULL\n",
    "chr20,tracks_chr20,0.035,NULL,NULL,NULL,NULL,NULL\n",
    "chr21,tracks_chr21,0.025,NULL,NULL,NULL,NULL,NULL\n",
    "chr22,tracks_chr22,0.35,NULL,NULL,NULL,NULL,NULL\n",
    "```\n",
    "\n",
    "More generally, to run genome-wide with default chromosome-specific parameters for humans, you can run\n",
    "\n",
    "```\n",
    "rocco gwide -p hg_params\n",
    "```\n",
    "\n",
    "or\n",
    "\n",
    "```\n",
    "rocco gwide -p mm_params\n",
    "```\n",
    "\n",
    "for mice. `hg_params` points to the CSV file [`hg38_params.csv`](https://github.com/nolan-h-hamilton/ROCCO/blob/main/rocco/hg38_params.csv) that is included in the ROCCO installation with `pip` and `conda`. `mm_params` points to `mm10_params.csv`.\n",
    "\n",
    "For additional details, see the subcommand documentation for [`rocco gwide`](https://nolan-h-hamilton.github.io/ROCCO/rocco/gwide.html)."
   ]
  },
  {
   "cell_type": "code",
   "execution_count": null,
   "id": "4006de23",
   "metadata": {},
   "outputs": [],
   "source": [
    "!rocco gwide -p test_params.csv --outdir demo_outdir --combine demo_out.bed"
   ]
  },
  {
   "cell_type": "markdown",
   "id": "cc5959c7",
   "metadata": {},
   "source": [
    "### Example III: Integrating sample metadata\n",
    "For differential accessibility testing with imbalanced classes, it may be beneficial to run ROCCO separately on each class and then merge results *post hoc* before computing the count matrix. This protocol is easily applied by invoking `rocco gwide`'s `--coldata` argument.\n",
    "\n",
    "Example coldata file with arbitrarily assigned groups for this demonstration:\n",
    "```\n",
    "sample\tgroup\tsex\n",
    "ENCFF495DQP\tA\tM\n",
    "ENCFF395ZMS\tA\tM\n",
    "ENCFF231YYD\tA\tM\n",
    "ENCFF009NCL\tA\tM\n",
    "ENCFF621AYF\tB\tM\n",
    "ENCFF767FGV\tB\tM\n",
    "ENCFF110EWQ\tB\tM\n",
    "ENCFF797EAL\tB\tM\n",
    "ENCFF948HNW\tB\tM\n",
    "```\n",
    "\n",
    "Copy/paste the above into a tab-separated file, **`coldata.tsv`**.\n",
    "\n",
    "Using the command in the next cell, ROCCO will be run for each group (A,B) separately with results stored in `group_{group_name}.bed`"
   ]
  },
  {
   "cell_type": "code",
   "execution_count": null,
   "id": "7bbfc047",
   "metadata": {},
   "outputs": [],
   "source": [
    "!rocco gwide -p hg_params --coldata coldata.tsv --sample_column sample --group_column group"
   ]
  },
  {
   "cell_type": "markdown",
   "id": "87181a81",
   "metadata": {},
   "source": [
    "Sort/merge bed files, exclude regions in `BL_regions.bed`"
   ]
  },
  {
   "cell_type": "code",
   "execution_count": null,
   "id": "364549a7",
   "metadata": {},
   "outputs": [],
   "source": [
    "!cat group_A.bed group_B.bed | bedtools sort -i stdin | bedtools merge -i stdin | bedtools intersect -a stdin -b BL_regions.bed -v > groups_combined_sorted.bed"
   ]
  },
  {
   "cell_type": "markdown",
   "id": "ba998ed8",
   "metadata": {},
   "source": [
    "#### Generating a count matrix\n",
    "\n",
    "**With `count_matrix.py`**\n",
    "\n",
    "[count_matrix.py](https://github.com/nolan-h-hamilton/ROCCO/blob/main/demo/count_matrix.py) is included in the ROCCO repository and can be used to generate a count matrix conformable with differential analysis software, e.g., DESeq2."
   ]
  },
  {
   "cell_type": "code",
   "execution_count": null,
   "metadata": {},
   "outputs": [],
   "source": [
    "!python count_matrix.py -i groups_combined_sorted.bed -m coldata.tsv --bamdir . -o demo_count_matrix.tsv --sample_column sample"
   ]
  },
  {
   "cell_type": "markdown",
   "metadata": {},
   "source": [
    "\n",
    "\n",
    "Several external tools, e.g., [`bedtools multicov`](https://bedtools.readthedocs.io/en/latest/content/tools/multicov.html), can also be used to generate a count matrix:\n",
    "\n",
    "```\n",
    "bedtools multicov -bams <space-separated BAM files> -bed groups_combined_sorted.bed\n",
    "```\n",
    "for downstream, make sure the order of files supplied to `-bams` matches that in **`coldata.tsv`**"
   ]
  }
 ],
 "metadata": {
  "kernelspec": {
   "display_name": "Python 3 (ipykernel)",
   "language": "python",
   "name": "python3"
  },
  "language_info": {
   "codemirror_mode": {
    "name": "ipython",
    "version": 3
   },
   "file_extension": ".py",
   "mimetype": "text/x-python",
   "name": "python",
   "nbconvert_exporter": "python",
   "pygments_lexer": "ipython3",
   "version": "3.8.18"
  }
 },
 "nbformat": 4,
 "nbformat_minor": 5
}
