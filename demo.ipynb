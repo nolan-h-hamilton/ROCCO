{
 "cells": [
  {
   "attachments": {},
   "cell_type": "markdown",
   "id": "bc3e9937",
   "metadata": {},
   "source": [
    "# ROCCO Quick Start Demo\n",
    "\n",
    "This notebook consists of three sections.\n",
    "1. BAM Preprocessing\n",
    "1. Running Rocco\n",
    "1. Analyzing Results\n",
    "\n",
    "The first section walks through the BAM --> WIG pipeline to generate ROCCO conformable input from a collection of samples' BAM files.\n",
    "\n",
    "The second section involves running ROCCO for a couple scenarios, and the third section carries out some cursory analysis of results"
   ]
  },
  {
   "attachments": {},
   "cell_type": "markdown",
   "id": "a9b36478",
   "metadata": {},
   "source": [
    "## BAM Preprocessing\n",
    "\n",
    "**Download Input Alignments:** To acquire the ATAC-seq alignments (human lymphoblast) used for this demo, run\n",
    "```\n",
    "xargs -L 1 curl -O -J -L < demo_files/bam_links.txt\n",
    "```\n",
    "in the main `ROCCO` directory.\n",
    "\n",
    "These files are are obtained from the ENCODE project with the follwing [query](https://www.encodeproject.org/search/?type=Experiment&control_type%21=%2A&status=released&perturbed=false&assay_title=ATAC-seq&biosample_ontology.cell_slims=lymphoblast&audit.ERROR.category%21=extremely+low+read+depth&audit.NOT_COMPLIANT.category%21=low+FRiP+score&audit.NOT_COMPLIANT.category%21=poor+library+complexity&audit.NOT_COMPLIANT.category%21=severe+bottlenecking&audit.WARNING.category%21=moderate+library+complexity&audit.WARNING.category%21=mild+to+moderate+bottlenecking&audit.WARNING.category%21=moderate+number+of+reproducible+peaks).\n",
    "\n",
    "The downloaded alignment files have been QC-processed with the [ENCODE ATAC-seq pipeline](https://www.encodeproject.org/atac-seq/). In general, we assume the BAM files used as input to ROCCO have been prepared according to some QC standard---duplicate removal, adapter trimming, etc."
   ]
  },
  {
   "attachments": {},
   "cell_type": "markdown",
   "id": "c72e23a2",
   "metadata": {},
   "source": [
    "#### [`prep_bams.py`](https://nolan-h-hamilton.github.io/ROCCO/prep_bams.html)\n",
    "This script generates a smooth signal track for each sample's BAM file and then divides each into chromosome-specific directories `tracks_<chromosome name>`, thereby providing ROCCO conformable input.\n",
    "\n",
    "Full documentation for this script is available [here](https://nolan-h-hamilton.github.io/ROCCO/prep_bams.html), and this [flowchart](https://github.com/nolan-h-hamilton/ROCCO/blob/main/docs/bamsig_flowchart.png) offers a visualization of the workflow.\n",
    "\n",
    "Users with the computational resources are encouraged to make use of the `--cores` command."
   ]
  },
  {
   "cell_type": "code",
   "execution_count": 1,
   "id": "ef44cb63",
   "metadata": {},
   "outputs": [
    {
     "name": "stdout",
     "output_type": "stream",
     "text": [
      "[E::idx_find_and_load] Could not retrieve index file for '/work/users/n/h/nolanh/ROCCO/ENCFF009NCL.bam'\n",
      "no index file available for /work/users/n/h/nolanh/ROCCO/ENCFF009NCL.bam, calling pysam.index()\n",
      "/work/users/n/h/nolanh/ROCCO/ENCFF009NCL.bam: running bamSitesToWig.py\n",
      "[E::idx_find_and_load] Could not retrieve index file for '/work/users/n/h/nolanh/ROCCO/ENCFF110EWQ.bam'\n",
      "no index file available for /work/users/n/h/nolanh/ROCCO/ENCFF110EWQ.bam, calling pysam.index()\n",
      "/work/users/n/h/nolanh/ROCCO/ENCFF110EWQ.bam: running bamSitesToWig.py\n",
      "[E::idx_find_and_load] Could not retrieve index file for '/work/users/n/h/nolanh/ROCCO/ENCFF231YYD.bam'\n",
      "no index file available for /work/users/n/h/nolanh/ROCCO/ENCFF231YYD.bam, calling pysam.index()\n",
      "/work/users/n/h/nolanh/ROCCO/ENCFF231YYD.bam: running bamSitesToWig.py\n",
      "[E::idx_find_and_load] Could not retrieve index file for '/work/users/n/h/nolanh/ROCCO/ENCFF395ZMS.bam'\n",
      "no index file available for /work/users/n/h/nolanh/ROCCO/ENCFF395ZMS.bam, calling pysam.index()\n",
      "/work/users/n/h/nolanh/ROCCO/ENCFF395ZMS.bam: running bamSitesToWig.py\n",
      "[E::idx_find_and_load] Could not retrieve index file for '/work/users/n/h/nolanh/ROCCO/ENCFF495DQP.bam'\n",
      "no index file available for /work/users/n/h/nolanh/ROCCO/ENCFF495DQP.bam, calling pysam.index()\n",
      "/work/users/n/h/nolanh/ROCCO/ENCFF495DQP.bam: running bamSitesToWig.py\n",
      "[E::idx_find_and_load] Could not retrieve index file for '/work/users/n/h/nolanh/ROCCO/ENCFF621AYF.bam'\n",
      "no index file available for /work/users/n/h/nolanh/ROCCO/ENCFF621AYF.bam, calling pysam.index()\n",
      "/work/users/n/h/nolanh/ROCCO/ENCFF621AYF.bam: running bamSitesToWig.py\n",
      "[E::idx_find_and_load] Could not retrieve index file for '/work/users/n/h/nolanh/ROCCO/ENCFF767FGV.bam'\n",
      "no index file available for /work/users/n/h/nolanh/ROCCO/ENCFF767FGV.bam, calling pysam.index()\n",
      "/work/users/n/h/nolanh/ROCCO/ENCFF767FGV.bam: running bamSitesToWig.py\n",
      "[E::idx_find_and_load] Could not retrieve index file for '/work/users/n/h/nolanh/ROCCO/ENCFF797EAL.bam'\n",
      "no index file available for /work/users/n/h/nolanh/ROCCO/ENCFF797EAL.bam, calling pysam.index()\n",
      "/work/users/n/h/nolanh/ROCCO/ENCFF797EAL.bam: running bamSitesToWig.py\n",
      "[E::idx_find_and_load] Could not retrieve index file for '/work/users/n/h/nolanh/ROCCO/ENCFF801THG.bam'\n",
      "no index file available for /work/users/n/h/nolanh/ROCCO/ENCFF801THG.bam, calling pysam.index()\n",
      "/work/users/n/h/nolanh/ROCCO/ENCFF801THG.bam: running bamSitesToWig.py\n",
      "[E::idx_find_and_load] Could not retrieve index file for '/work/users/n/h/nolanh/ROCCO/ENCFF948HNW.bam'\n",
      "no index file available for /work/users/n/h/nolanh/ROCCO/ENCFF948HNW.bam, calling pysam.index()\n",
      "/work/users/n/h/nolanh/ROCCO/ENCFF948HNW.bam: running bamSitesToWig.py\n"
     ]
    }
   ],
   "source": [
    "# usage: prep_bams.py [-h] [-i BAMDIR] [-o OUTDIR] [-s SIZES] [-L INTERVAL_LENGTH] [-c CORES]\n",
    "# defaults used except for --cores:\n",
    "!python prep_bams.py --cores 4"
   ]
  },
  {
   "attachments": {},
   "cell_type": "markdown",
   "id": "e0351b5c",
   "metadata": {},
   "source": [
    "## Running ROCCO\n",
    "Note, to run ROCCO in this section, we use the MOSEK solver. Remove `--solver MOSEK` from each command to use the ECOS solver instead. \n",
    "\n",
    "ECOS is the default, open-source option but produces lengthy output and was excluded for brevity."
   ]
  },
  {
   "attachments": {},
   "cell_type": "markdown",
   "id": "c82e9d7b",
   "metadata": {},
   "source": [
    "#### 1) Run on a Single Chromosome (`chr22`) with Default Parameters\n",
    "[`ROCCO_chrom.py`](https://nolan-h-hamilton.github.io/ROCCO/ROCCO_chrom.html) builds $\\mathbf{S}_{chr}$ from wig files in `--wig_path` before solving the optimization problem underlying ROCCO. We use the `--verbose` flag for demonstration"
   ]
  },
  {
   "cell_type": "code",
   "execution_count": 2,
   "id": "92b108eb",
   "metadata": {},
   "outputs": [
    {
     "name": "stdout",
     "output_type": "stream",
     "text": [
      "{'chrom': 'chr22', 'start': -1, 'end': -1, 'locus_size': -1, 'wig_path': 'tracks_chr22', 'rr_iter': 50, 'verbose': True, 'integral': False, 'budget': 0.035, 'gamma': 1.0, 'tau': 0.0, 'c1': 1.0, 'c2': 1.0, 'c3': 1.0, 'solver': 'MOSEK', 'bed_format': 6, 'identifiers': None, 'outdir': '.'}\n",
      "ROCCO_chrom: inferred args\n",
      "{'chrom': 'chr22', 'start': 10516250, 'end': 50818450, 'locus_size': 50, 'wig_path': 'tracks_chr22', 'rr_iter': 50, 'verbose': True, 'integral': False, 'budget': 0.035, 'gamma': 1.0, 'tau': 0.0, 'c1': 1.0, 'c2': 1.0, 'c3': 1.0, 'solver': 'MOSEK', 'bed_format': 6, 'identifiers': None, 'outdir': '.'}\n",
      "ROCCO_chrom: reading wig file tracks_chr22/chr22_ENCFF009NCL.bam.bw.wig\n",
      "ROCCO_chrom: reading wig file tracks_chr22/chr22_ENCFF110EWQ.bam.bw.wig\n",
      "ROCCO_chrom: reading wig file tracks_chr22/chr22_ENCFF231YYD.bam.bw.wig\n",
      "ROCCO_chrom: reading wig file tracks_chr22/chr22_ENCFF395ZMS.bam.bw.wig\n",
      "ROCCO_chrom: reading wig file tracks_chr22/chr22_ENCFF495DQP.bam.bw.wig\n",
      "ROCCO_chrom: reading wig file tracks_chr22/chr22_ENCFF621AYF.bam.bw.wig\n",
      "ROCCO_chrom: reading wig file tracks_chr22/chr22_ENCFF767FGV.bam.bw.wig\n",
      "ROCCO_chrom: reading wig file tracks_chr22/chr22_ENCFF797EAL.bam.bw.wig\n",
      "ROCCO_chrom: reading wig file tracks_chr22/chr22_ENCFF801THG.bam.bw.wig\n",
      "ROCCO_chrom: reading wig file tracks_chr22/chr22_ENCFF948HNW.bam.bw.wig\n",
      "ROCCO_chrom: building Loci object\n",
      "ROCCO_chrom: solving for optimal solution\n",
      "===============================================================================\n",
      "                                     CVXPY                                     \n",
      "                                     v1.3.0                                    \n",
      "===============================================================================\n",
      "(CVXPY) Jun 21 01:41:23 AM: Your problem has 1612089 variables, 5 constraints, and 0 parameters.\n",
      "(CVXPY) Jun 21 01:41:23 AM: It is compliant with the following grammars: DCP, DQCP\n",
      "(CVXPY) Jun 21 01:41:23 AM: (If you need to solve this problem multiple times, but with different data, consider using parameters.)\n",
      "(CVXPY) Jun 21 01:41:23 AM: CVXPY will first compile your problem; then, it will invoke a numerical solver to obtain a solution.\n",
      "-------------------------------------------------------------------------------\n",
      "                                  Compilation                                  \n",
      "-------------------------------------------------------------------------------\n",
      "(CVXPY) Jun 21 01:41:23 AM: Compiling problem (target solver=MOSEK).\n",
      "(CVXPY) Jun 21 01:41:23 AM: Reduction chain: Dcp2Cone -> CvxAttr2Constr -> ConeMatrixStuffing -> MOSEK\n",
      "(CVXPY) Jun 21 01:41:23 AM: Applying reduction Dcp2Cone\n",
      "(CVXPY) Jun 21 01:41:23 AM: Applying reduction CvxAttr2Constr\n",
      "(CVXPY) Jun 21 01:41:23 AM: Applying reduction ConeMatrixStuffing\n",
      "(CVXPY) Jun 21 01:41:25 AM: Applying reduction MOSEK\n",
      "(CVXPY) Jun 21 01:41:26 AM: Finished problem compilation (took 2.710e+00 seconds).\n",
      "-------------------------------------------------------------------------------\n",
      "                                Numerical solver                               \n",
      "-------------------------------------------------------------------------------\n",
      "(CVXPY) Jun 21 01:41:26 AM: Invoking solver MOSEK  to obtain a solution.\n",
      "\n",
      "\n",
      "(CVXPY) Jun 21 01:41:29 AM: Problem\n",
      "(CVXPY) Jun 21 01:41:29 AM:   Name                   :                 \n",
      "(CVXPY) Jun 21 01:41:29 AM:   Objective sense        : maximize        \n",
      "(CVXPY) Jun 21 01:41:29 AM:   Type                   : LO (linear optimization problem)\n",
      "(CVXPY) Jun 21 01:41:29 AM:   Constraints            : 1612089         \n",
      "(CVXPY) Jun 21 01:41:29 AM:   Affine conic cons.     : 0               \n",
      "(CVXPY) Jun 21 01:41:29 AM:   Disjunctive cons.      : 0               \n",
      "(CVXPY) Jun 21 01:41:29 AM:   Cones                  : 0               \n",
      "(CVXPY) Jun 21 01:41:29 AM:   Scalar variables       : 3224179         \n",
      "(CVXPY) Jun 21 01:41:29 AM:   Matrix variables       : 0               \n",
      "(CVXPY) Jun 21 01:41:29 AM:   Integer variables      : 0               \n",
      "(CVXPY) Jun 21 01:41:29 AM: \n",
      "(CVXPY) Jun 21 01:41:29 AM: Optimizer started.\n",
      "(CVXPY) Jun 21 01:41:29 AM: Presolve started.\n",
      "(CVXPY) Jun 21 01:41:29 AM: Linear dependency checker started.\n",
      "(CVXPY) Jun 21 01:41:30 AM: Linear dependency checker terminated.\n",
      "(CVXPY) Jun 21 01:41:30 AM: Eliminator started.\n",
      "(CVXPY) Jun 21 01:41:31 AM: Freed constraints in eliminator : 806044\n",
      "(CVXPY) Jun 21 01:41:31 AM: Eliminator terminated.\n",
      "(CVXPY) Jun 21 01:41:32 AM: Eliminator started.\n",
      "(CVXPY) Jun 21 01:41:32 AM: Freed constraints in eliminator : 0\n",
      "(CVXPY) Jun 21 01:41:32 AM: Eliminator terminated.\n",
      "(CVXPY) Jun 21 01:41:32 AM: Eliminator - tries                  : 2                 time                   : 0.00            \n",
      "(CVXPY) Jun 21 01:41:32 AM: Lin. dep.  - tries                  : 1                 time                   : 0.32            \n",
      "(CVXPY) Jun 21 01:41:32 AM: Lin. dep.  - number                 : 0               \n",
      "(CVXPY) Jun 21 01:41:32 AM: Presolve terminated. Time: 3.19    \n",
      "(CVXPY) Jun 21 01:41:35 AM: Problem\n",
      "(CVXPY) Jun 21 01:41:35 AM:   Name                   :                 \n",
      "(CVXPY) Jun 21 01:41:35 AM:   Objective sense        : maximize        \n",
      "(CVXPY) Jun 21 01:41:35 AM:   Type                   : LO (linear optimization problem)\n",
      "(CVXPY) Jun 21 01:41:35 AM:   Constraints            : 1612089         \n",
      "(CVXPY) Jun 21 01:41:35 AM:   Affine conic cons.     : 0               \n",
      "(CVXPY) Jun 21 01:41:35 AM:   Disjunctive cons.      : 0               \n",
      "(CVXPY) Jun 21 01:41:35 AM:   Cones                  : 0               \n",
      "(CVXPY) Jun 21 01:41:35 AM:   Scalar variables       : 3224179         \n",
      "(CVXPY) Jun 21 01:41:35 AM:   Matrix variables       : 0               \n",
      "(CVXPY) Jun 21 01:41:35 AM:   Integer variables      : 0               \n",
      "(CVXPY) Jun 21 01:41:35 AM: \n",
      "(CVXPY) Jun 21 01:41:35 AM: Optimizer  - threads                : 32              \n",
      "(CVXPY) Jun 21 01:41:35 AM: Optimizer  - solved problem         : the primal      \n",
      "(CVXPY) Jun 21 01:41:35 AM: Optimizer  - Constraints            : 806045\n",
      "(CVXPY) Jun 21 01:41:35 AM: Optimizer  - Cones                  : 0\n",
      "(CVXPY) Jun 21 01:41:35 AM: Optimizer  - Scalar variables       : 2418135           conic                  : 0               \n",
      "(CVXPY) Jun 21 01:41:35 AM: Optimizer  - Semi-definite variables: 0                 scalarized             : 0               \n",
      "(CVXPY) Jun 21 01:41:35 AM: Factor     - setup time             : 1.98              dense det. time        : 0.23            \n",
      "(CVXPY) Jun 21 01:41:35 AM: Factor     - ML order time          : 0.73              GP order time          : 0.00            \n",
      "(CVXPY) Jun 21 01:41:35 AM: Factor     - nonzeros before factor : 2.42e+06          after factor           : 2.42e+06        \n",
      "(CVXPY) Jun 21 01:41:35 AM: Factor     - dense dim.             : 1                 flops                  : 1.29e+07        \n",
      "(CVXPY) Jun 21 01:41:35 AM: ITE PFEAS    DFEAS    GFEAS    PRSTATUS   POBJ              DOBJ              MU       TIME  \n",
      "(CVXPY) Jun 21 01:41:35 AM: 0   2.6e+01  3.5e+08  1.2e+05  0.00e+00   -1.169672721e+06  -1.051718329e+06  2.2e+02  6.37  \n",
      "(CVXPY) Jun 21 01:41:36 AM: 1   1.1e+01  5.8e+03  4.9e+04  1.18e+00   -1.137280064e+06  -1.092252404e+06  9.1e+01  6.92  \n",
      "(CVXPY) Jun 21 01:41:36 AM: 2   5.9e+00  3.2e+03  2.7e+04  1.04e+00   -1.119279839e+06  -1.094506113e+06  5.0e+01  7.46  \n",
      "(CVXPY) Jun 21 01:41:37 AM: 3   7.1e-01  3.9e+02  3.3e+03  1.04e+00   -1.079651894e+06  -1.076705323e+06  6.1e+00  8.02  \n",
      "(CVXPY) Jun 21 01:41:37 AM: 4   8.0e-02  4.4e+01  3.7e+02  1.14e+00   -6.200385986e+05  -6.197388445e+05  6.8e-01  8.57  \n",
      "(CVXPY) Jun 21 01:41:38 AM: 5   1.3e-02  7.1e+00  6.0e+01  1.23e+00   -2.265006167e+05  -2.264567725e+05  1.1e-01  9.12  \n",
      "(CVXPY) Jun 21 01:41:39 AM: 6   6.5e-03  3.6e+00  3.0e+01  1.08e+00   -1.909332881e+05  -1.909120152e+05  5.6e-02  9.68  \n",
      "(CVXPY) Jun 21 01:41:39 AM: 7   4.3e-03  2.3e+00  2.0e+01  1.05e+00   -1.796927531e+05  -1.796788141e+05  3.7e-02  10.21 \n",
      "(CVXPY) Jun 21 01:41:40 AM: 8   2.3e-03  1.3e+00  1.1e+01  1.04e+00   -1.699660453e+05  -1.699586215e+05  2.0e-02  10.75 \n",
      "(CVXPY) Jun 21 01:41:40 AM: 9   1.4e-03  7.8e-01  6.5e+00  1.02e+00   -1.657470575e+05  -1.657425121e+05  1.2e-02  11.30 \n",
      "(CVXPY) Jun 21 01:41:41 AM: 10  8.9e-04  4.9e-01  4.1e+00  1.01e+00   -1.632933230e+05  -1.632904699e+05  7.7e-03  11.83 \n",
      "(CVXPY) Jun 21 01:41:41 AM: 11  5.8e-04  3.2e-01  2.7e+00  1.01e+00   -1.618640168e+05  -1.618621550e+05  5.0e-03  12.39 \n",
      "(CVXPY) Jun 21 01:41:42 AM: 12  3.7e-04  2.0e-01  1.7e+00  1.01e+00   -1.609020049e+05  -1.609008154e+05  3.2e-03  12.94 \n",
      "(CVXPY) Jun 21 01:41:42 AM: 13  2.2e-04  1.2e-01  1.0e+00  1.00e+00   -1.602214440e+05  -1.602207286e+05  1.9e-03  13.46 \n",
      "(CVXPY) Jun 21 01:41:43 AM: 14  1.4e-04  7.6e-02  6.4e-01  1.00e+00   -1.598355475e+05  -1.598351049e+05  1.2e-03  13.99 \n",
      "(CVXPY) Jun 21 01:41:43 AM: 15  6.9e-05  3.8e-02  3.2e-01  1.00e+00   -1.595232074e+05  -1.595229873e+05  5.9e-04  14.55 \n",
      "(CVXPY) Jun 21 01:41:44 AM: 16  5.3e-05  2.9e-02  2.4e-01  1.00e+00   -1.594522924e+05  -1.594521240e+05  4.5e-04  15.08 \n",
      "(CVXPY) Jun 21 01:41:44 AM: 17  1.6e-05  8.8e-03  7.4e-02  1.00e+00   -1.592930733e+05  -1.592930221e+05  1.4e-04  15.62 \n",
      "(CVXPY) Jun 21 01:41:45 AM: 18  8.2e-06  4.5e-03  3.8e-02  1.00e+00   -1.592589709e+05  -1.592589449e+05  7.0e-05  16.17 \n",
      "(CVXPY) Jun 21 01:41:46 AM: 19  4.2e-06  2.3e-03  1.9e-02  1.00e+00   -1.592420554e+05  -1.592420421e+05  3.6e-05  16.72 \n",
      "(CVXPY) Jun 21 01:41:46 AM: 20  2.2e-06  1.2e-03  1.0e-02  1.00e+00   -1.592334675e+05  -1.592334606e+05  1.9e-05  17.27 \n",
      "(CVXPY) Jun 21 01:41:47 AM: 21  1.9e-06  1.1e-03  8.9e-03  1.00e+00   -1.592323949e+05  -1.592323888e+05  1.7e-05  17.81 \n",
      "(CVXPY) Jun 21 01:41:47 AM: 22  8.6e-07  4.7e-04  4.0e-03  1.00e+00   -1.592279387e+05  -1.592279360e+05  7.4e-06  18.36 \n",
      "(CVXPY) Jun 21 01:41:48 AM: 23  1.3e-07  7.4e-05  6.2e-04  1.00e+00   -1.592249222e+05  -1.592249217e+05  1.2e-06  18.90 \n",
      "(CVXPY) Jun 21 01:41:48 AM: 24  2.0e-10  1.1e-07  1.2e-06  1.00e+00   -1.592244188e+05  -1.592244188e+05  1.7e-09  19.45 \n",
      "(CVXPY) Jun 21 01:41:49 AM: Optimizer terminated. Time: 20.00   \n",
      "(CVXPY) Jun 21 01:41:49 AM: \n",
      "(CVXPY) Jun 21 01:41:49 AM: \n",
      "(CVXPY) Jun 21 01:41:49 AM: Interior-point solution summary\n",
      "(CVXPY) Jun 21 01:41:49 AM:   Problem status  : PRIMAL_AND_DUAL_FEASIBLE\n",
      "(CVXPY) Jun 21 01:41:49 AM:   Solution status : OPTIMAL\n",
      "(CVXPY) Jun 21 01:41:49 AM:   Primal.  obj: -1.5922441884e+05   nrm: 8e+01    Viol.  con: 3e-10    var: 0e+00  \n",
      "(CVXPY) Jun 21 01:41:49 AM:   Dual.    obj: -1.5922441885e+05   nrm: 2e+00    Viol.  con: 0e+00    var: 1e-07  \n",
      "-------------------------------------------------------------------------------\n",
      "                                    Summary                                    \n",
      "-------------------------------------------------------------------------------\n",
      "(CVXPY) Jun 21 01:41:50 AM: Problem status: optimal\n",
      "(CVXPY) Jun 21 01:41:50 AM: Optimal value: -1.592e+05\n",
      "(CVXPY) Jun 21 01:41:50 AM: Compilation took 2.710e+00 seconds\n",
      "(CVXPY) Jun 21 01:41:50 AM: Solver (including time spent in interface) took 2.322e+01 seconds\n",
      "ROCCO_chrom: merging adjacent selections\n",
      "ROCCO_chrom: writing output: ./ROCCO_out_chr22_0.035_1.0_0.0_1.0_1.0_1.0.bed\n"
     ]
    }
   ],
   "source": [
    "!python ROCCO_chrom.py --chrom chr22 --wig_path tracks_chr22 --verbose --solver MOSEK"
   ]
  },
  {
   "attachments": {},
   "cell_type": "markdown",
   "id": "a24d5aba",
   "metadata": {},
   "source": [
    "#### 2) Run on Multiple Chromosomes with Default Parameters\n",
    "[`ROCCO.py`](https://nolan-h-hamilton.github.io/ROCCO/ROCCO.html) will look for chromosome-specific parameters in the CSV file specified with the `--param_file` argument, in our case, `demo_files/demo_params.csv`. Since a `NULL` entry is present in each cell in this file, the genome-wide defaults will be used.\n",
    "\n",
    "**`demo_files/demo_params.csv`**\n",
    "```\n",
    "chromosome,input_path,budget,gamma,tau,c1,c2,c3\n",
    "chr20,tracks_chr20,NULL,NULL,NULL,NULL,NULL,NULL\n",
    "chr21,tracks_chr21,NULL,NULL,NULL,NULL,NULL,NULL\n",
    "chr22,tracks_chr22,NULL,NULL,NULL,NULL,NULL,NULL\n",
    "```"
   ]
  },
  {
   "cell_type": "code",
   "execution_count": 3,
   "id": "606b35b1",
   "metadata": {},
   "outputs": [
    {
     "name": "stdout",
     "output_type": "stream",
     "text": [
      "running each ROCCO_chrom.py job sequentially\n",
      "job 0: python3 /work/users/n/h/nolanh/ROCCO/ROCCO_chrom.py --chrom chr20 --wig_path tracks_chr20 --budget 0.035 --gamma 1.0 --tau 0.0 --c1 1.0 --c2 1.0 --c3 1.0 --solver MOSEK --bed_format 3 --outdir demo_outdir --rr_iter 50\n",
      "ROCCO_chrom: reading wig file tracks_chr20/chr20_ENCFF009NCL.bam.bw.wig\n",
      "ROCCO_chrom: reading wig file tracks_chr20/chr20_ENCFF110EWQ.bam.bw.wig\n",
      "ROCCO_chrom: reading wig file tracks_chr20/chr20_ENCFF231YYD.bam.bw.wig\n",
      "ROCCO_chrom: reading wig file tracks_chr20/chr20_ENCFF395ZMS.bam.bw.wig\n",
      "ROCCO_chrom: reading wig file tracks_chr20/chr20_ENCFF495DQP.bam.bw.wig\n",
      "ROCCO_chrom: reading wig file tracks_chr20/chr20_ENCFF621AYF.bam.bw.wig\n",
      "ROCCO_chrom: reading wig file tracks_chr20/chr20_ENCFF767FGV.bam.bw.wig\n",
      "ROCCO_chrom: reading wig file tracks_chr20/chr20_ENCFF797EAL.bam.bw.wig\n",
      "ROCCO_chrom: reading wig file tracks_chr20/chr20_ENCFF801THG.bam.bw.wig\n",
      "ROCCO_chrom: reading wig file tracks_chr20/chr20_ENCFF948HNW.bam.bw.wig\n",
      "ROCCO_chrom: writing output: demo_outdir/ROCCO_out_chr20_0.035_1.0_0.0_1.0_1.0_1.0.bed\n",
      "\n",
      "job 1: python3 /work/users/n/h/nolanh/ROCCO/ROCCO_chrom.py --chrom chr21 --wig_path tracks_chr21 --budget 0.035 --gamma 1.0 --tau 0.0 --c1 1.0 --c2 1.0 --c3 1.0 --solver MOSEK --bed_format 3 --outdir demo_outdir --rr_iter 50\n",
      "ROCCO_chrom: reading wig file tracks_chr21/chr21_ENCFF009NCL.bam.bw.wig\n",
      "ROCCO_chrom: reading wig file tracks_chr21/chr21_ENCFF110EWQ.bam.bw.wig\n",
      "ROCCO_chrom: reading wig file tracks_chr21/chr21_ENCFF231YYD.bam.bw.wig\n",
      "ROCCO_chrom: reading wig file tracks_chr21/chr21_ENCFF395ZMS.bam.bw.wig\n",
      "ROCCO_chrom: reading wig file tracks_chr21/chr21_ENCFF495DQP.bam.bw.wig\n",
      "ROCCO_chrom: reading wig file tracks_chr21/chr21_ENCFF621AYF.bam.bw.wig\n",
      "ROCCO_chrom: reading wig file tracks_chr21/chr21_ENCFF767FGV.bam.bw.wig\n",
      "ROCCO_chrom: reading wig file tracks_chr21/chr21_ENCFF797EAL.bam.bw.wig\n",
      "ROCCO_chrom: reading wig file tracks_chr21/chr21_ENCFF801THG.bam.bw.wig\n",
      "ROCCO_chrom: reading wig file tracks_chr21/chr21_ENCFF948HNW.bam.bw.wig\n",
      "ROCCO_chrom: writing output: demo_outdir/ROCCO_out_chr21_0.035_1.0_0.0_1.0_1.0_1.0.bed\n",
      "\n",
      "job 2: python3 /work/users/n/h/nolanh/ROCCO/ROCCO_chrom.py --chrom chr22 --wig_path tracks_chr22 --budget 0.035 --gamma 1.0 --tau 0.0 --c1 1.0 --c2 1.0 --c3 1.0 --solver MOSEK --bed_format 3 --outdir demo_outdir --rr_iter 50\n",
      "ROCCO_chrom: reading wig file tracks_chr22/chr22_ENCFF009NCL.bam.bw.wig\n",
      "ROCCO_chrom: reading wig file tracks_chr22/chr22_ENCFF110EWQ.bam.bw.wig\n",
      "ROCCO_chrom: reading wig file tracks_chr22/chr22_ENCFF231YYD.bam.bw.wig\n",
      "ROCCO_chrom: reading wig file tracks_chr22/chr22_ENCFF395ZMS.bam.bw.wig\n",
      "ROCCO_chrom: reading wig file tracks_chr22/chr22_ENCFF495DQP.bam.bw.wig\n",
      "ROCCO_chrom: reading wig file tracks_chr22/chr22_ENCFF621AYF.bam.bw.wig\n",
      "ROCCO_chrom: reading wig file tracks_chr22/chr22_ENCFF767FGV.bam.bw.wig\n",
      "ROCCO_chrom: reading wig file tracks_chr22/chr22_ENCFF797EAL.bam.bw.wig\n",
      "ROCCO_chrom: reading wig file tracks_chr22/chr22_ENCFF801THG.bam.bw.wig\n",
      "ROCCO_chrom: reading wig file tracks_chr22/chr22_ENCFF948HNW.bam.bw.wig\n",
      "ROCCO_chrom: writing output: demo_outdir/ROCCO_out_chr22_0.035_1.0_0.0_1.0_1.0_1.0.bed\n",
      "\n",
      "combining output files --> ROCCO_out_combined.bed\n"
     ]
    }
   ],
   "source": [
    "!python ROCCO.py --param_file demo_files/demo_params.csv --combine ROCCO_out_combined.bed --outdir demo_outdir --solver MOSEK"
   ]
  },
  {
   "attachments": {},
   "cell_type": "markdown",
   "id": "79ba5c6b",
   "metadata": {},
   "source": [
    "#### 3) Run on Multiple Chromosomes with Variable Budgets\n",
    "\n",
    "We run ROCCO over chromosomes 17-19 with specific budgets for each. In this example, budgets are computed loosely based on gene density of the respective chromosome.\n",
    "\n",
    "**spec_params.csv**\n",
    "```\n",
    "chromosome,input_path,budget,gamma,tau,c1,c2,c3\n",
    "chr17,tracks_chr17,0.04,NULL,NULL,NULL,NULL,NULL\n",
    "chr18,tracks_chr18,0.03,NULL,NULL,NULL,NULL,NULL\n",
    "chr19,tracks_chr19,0.05,NULL,NULL,NULL,NULL,NULL\n",
    "```\n",
    "\n"
   ]
  },
  {
   "cell_type": "code",
   "execution_count": 4,
   "id": "1e7bc7d6",
   "metadata": {},
   "outputs": [
    {
     "name": "stdout",
     "output_type": "stream",
     "text": [
      "running each ROCCO_chrom.py job sequentially\n",
      "job 0: python3 /work/users/n/h/nolanh/ROCCO/ROCCO_chrom.py --chrom chr17 --wig_path tracks_chr17 --budget 0.04 --gamma 1.0 --tau 0.0 --c1 1.0 --c2 1.0 --c3 1.0 --solver MOSEK --bed_format 3 --outdir spec_outdir --rr_iter 50\n",
      "ROCCO_chrom: reading wig file tracks_chr17/chr17_ENCFF009NCL.bam.bw.wig\n",
      "ROCCO_chrom: reading wig file tracks_chr17/chr17_ENCFF110EWQ.bam.bw.wig\n",
      "ROCCO_chrom: reading wig file tracks_chr17/chr17_ENCFF231YYD.bam.bw.wig\n",
      "ROCCO_chrom: reading wig file tracks_chr17/chr17_ENCFF395ZMS.bam.bw.wig\n",
      "ROCCO_chrom: reading wig file tracks_chr17/chr17_ENCFF495DQP.bam.bw.wig\n",
      "ROCCO_chrom: reading wig file tracks_chr17/chr17_ENCFF621AYF.bam.bw.wig\n",
      "ROCCO_chrom: reading wig file tracks_chr17/chr17_ENCFF767FGV.bam.bw.wig\n",
      "ROCCO_chrom: reading wig file tracks_chr17/chr17_ENCFF797EAL.bam.bw.wig\n",
      "ROCCO_chrom: reading wig file tracks_chr17/chr17_ENCFF801THG.bam.bw.wig\n",
      "ROCCO_chrom: reading wig file tracks_chr17/chr17_ENCFF948HNW.bam.bw.wig\n",
      "ROCCO_chrom: writing output: spec_outdir/ROCCO_out_chr17_0.04_1.0_0.0_1.0_1.0_1.0.bed\n",
      "\n",
      "job 1: python3 /work/users/n/h/nolanh/ROCCO/ROCCO_chrom.py --chrom chr18 --wig_path tracks_chr18 --budget 0.03 --gamma 1.0 --tau 0.0 --c1 1.0 --c2 1.0 --c3 1.0 --solver MOSEK --bed_format 3 --outdir spec_outdir --rr_iter 50\n",
      "ROCCO_chrom: reading wig file tracks_chr18/chr18_ENCFF009NCL.bam.bw.wig\n",
      "ROCCO_chrom: reading wig file tracks_chr18/chr18_ENCFF110EWQ.bam.bw.wig\n",
      "ROCCO_chrom: reading wig file tracks_chr18/chr18_ENCFF231YYD.bam.bw.wig\n",
      "ROCCO_chrom: reading wig file tracks_chr18/chr18_ENCFF395ZMS.bam.bw.wig\n",
      "ROCCO_chrom: reading wig file tracks_chr18/chr18_ENCFF495DQP.bam.bw.wig\n",
      "ROCCO_chrom: reading wig file tracks_chr18/chr18_ENCFF621AYF.bam.bw.wig\n",
      "ROCCO_chrom: reading wig file tracks_chr18/chr18_ENCFF767FGV.bam.bw.wig\n",
      "ROCCO_chrom: reading wig file tracks_chr18/chr18_ENCFF797EAL.bam.bw.wig\n",
      "ROCCO_chrom: reading wig file tracks_chr18/chr18_ENCFF801THG.bam.bw.wig\n",
      "ROCCO_chrom: reading wig file tracks_chr18/chr18_ENCFF948HNW.bam.bw.wig\n",
      "ROCCO_chrom: writing output: spec_outdir/ROCCO_out_chr18_0.03_1.0_0.0_1.0_1.0_1.0.bed\n",
      "\n",
      "job 2: python3 /work/users/n/h/nolanh/ROCCO/ROCCO_chrom.py --chrom chr19 --wig_path tracks_chr19 --budget 0.05 --gamma 1.0 --tau 0.0 --c1 1.0 --c2 1.0 --c3 1.0 --solver MOSEK --bed_format 3 --outdir spec_outdir --rr_iter 50\n",
      "ROCCO_chrom: reading wig file tracks_chr19/chr19_ENCFF009NCL.bam.bw.wig\n",
      "ROCCO_chrom: reading wig file tracks_chr19/chr19_ENCFF110EWQ.bam.bw.wig\n",
      "ROCCO_chrom: reading wig file tracks_chr19/chr19_ENCFF231YYD.bam.bw.wig\n",
      "ROCCO_chrom: reading wig file tracks_chr19/chr19_ENCFF395ZMS.bam.bw.wig\n",
      "ROCCO_chrom: reading wig file tracks_chr19/chr19_ENCFF495DQP.bam.bw.wig\n",
      "ROCCO_chrom: reading wig file tracks_chr19/chr19_ENCFF621AYF.bam.bw.wig\n",
      "ROCCO_chrom: reading wig file tracks_chr19/chr19_ENCFF767FGV.bam.bw.wig\n",
      "ROCCO_chrom: reading wig file tracks_chr19/chr19_ENCFF797EAL.bam.bw.wig\n",
      "ROCCO_chrom: reading wig file tracks_chr19/chr19_ENCFF801THG.bam.bw.wig\n",
      "ROCCO_chrom: reading wig file tracks_chr19/chr19_ENCFF948HNW.bam.bw.wig\n",
      "ROCCO_chrom: writing output: spec_outdir/ROCCO_out_chr19_0.05_1.0_0.0_1.0_1.0_1.0.bed\n",
      "\n",
      "combining output files --> spec_combined.bed\n"
     ]
    }
   ],
   "source": [
    "!python ROCCO.py --param_file spec_params.csv --combine spec_combined.bed --outdir spec_outdir --solver MOSEK"
   ]
  },
  {
   "attachments": {},
   "cell_type": "markdown",
   "id": "5f522ac0",
   "metadata": {},
   "source": [
    "## Analyzing Results \n"
   ]
  },
  {
   "attachments": {},
   "cell_type": "markdown",
   "id": "cceebde0",
   "metadata": {},
   "source": [
    "#### ROCCO predicted peak regions over `chr22` using default parameters\n",
    "IDR thresholded peaks and fold change signals from ENCODE are included\n",
    "![Alt text](demo_files/demo1.png)"
   ]
  },
  {
   "attachments": {},
   "cell_type": "markdown",
   "id": "9f966503",
   "metadata": {},
   "source": [
    "#### Peak Summary for Variable Budgets, Human Chromosomes 17-19\n",
    "\n",
    "We first create a size file including chromosomes 17-19 so we can call `bedtools summary` on the peak results\n",
    "\n",
    "**chroms.size**\n",
    "```\n",
    "chr17\t83257441\n",
    "chr18\t80373285\n",
    "chr19\t58617616\n",
    "```"
   ]
  },
  {
   "cell_type": "code",
   "execution_count": 5,
   "id": "e62a12b6",
   "metadata": {},
   "outputs": [
    {
     "name": "stdout",
     "output_type": "stream",
     "text": [
      "chrom  num_records  total_bp  chrom_frac_genome  frac_all_ivls  frac_all_bp  min    max     mean\n",
      "chr17  4707         3326300   0.37461            0.385          0.384        50     13100   706.671\n",
      "chr18  4082         2410800   0.36164            0.334          0.278        50     7050    590.593\n",
      "chr19  3438         2927350   0.26375            0.281          0.338        50     14650   851.469\n",
      "all    12227        8664450   1.0                1.0            50           14650  708.63  \n"
     ]
    }
   ],
   "source": [
    "!bedtools summary -i spec_combined.bed -g chroms.size | column -t"
   ]
  }
 ],
 "metadata": {
  "kernelspec": {
   "display_name": "Python 3 (ipykernel)",
   "language": "python",
   "name": "python3"
  },
  "language_info": {
   "codemirror_mode": {
    "name": "ipython",
    "version": 3
   },
   "file_extension": ".py",
   "mimetype": "text/x-python",
   "name": "python",
   "nbconvert_exporter": "python",
   "pygments_lexer": "ipython3",
   "version": "3.9.6"
  }
 },
 "nbformat": 4,
 "nbformat_minor": 5
}
