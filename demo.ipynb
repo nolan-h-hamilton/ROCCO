{
 "cells": [
  {
   "attachments": {},
   "cell_type": "markdown",
   "id": "bc3e9937",
   "metadata": {},
   "source": [
    "# ROCCO Quick Start Demo"
   ]
  },
  {
   "attachments": {},
   "cell_type": "markdown",
   "id": "a9b36478",
   "metadata": {},
   "source": [
    "## BAM Preprocessing\n",
    "\n",
    "**Download Input Alignments:** To download and index the ATAC-seq alignments (human lymphoblast) used for this demo, run\n",
    "```\n",
    "xargs -L 1 curl -O -J -L < demo_bams.txt\n",
    "samtools index -M *.bam\n",
    "```\n",
    "in the main `ROCCO` directory.\n",
    "\n",
    "These files are are obtained from the ENCODE project with the follwing [query](https://www.encodeproject.org/search/?type=Experiment&control_type%21=%2A&status=released&perturbed=false&assay_title=ATAC-seq&biosample_ontology.cell_slims=lymphoblast&audit.ERROR.category%21=extremely+low+read+depth&audit.NOT_COMPLIANT.category%21=low+FRiP+score&audit.NOT_COMPLIANT.category%21=poor+library+complexity&audit.NOT_COMPLIANT.category%21=severe+bottlenecking&audit.WARNING.category%21=moderate+library+complexity&audit.WARNING.category%21=mild+to+moderate+bottlenecking&audit.WARNING.category%21=moderate+number+of+reproducible+peaks).\n",
    "\n",
    "The downloaded alignment files have been QC-processed with the [ENCODE ATAC-seq pipeline](https://www.encodeproject.org/atac-seq/). In general, we assume the BAM files used as input to ROCCO have been prepared according to some QC standard---duplicate removal, adapter trimming, etc."
   ]
  },
  {
   "attachments": {},
   "cell_type": "markdown",
   "id": "c72e23a2",
   "metadata": {},
   "source": [
    "## `rocco prep`\n",
    "\n",
    "This step generates a smooth signal track for each sample's BAM file and then divides each into chromosome-specific directories `tracks_<chromosome name>`, thereby providing ROCCO conformable input.\n",
    "\n",
    "See `rocco prep -h` for additional details. "
   ]
  },
  {
   "cell_type": "code",
   "execution_count": 1,
   "id": "ef44cb63",
   "metadata": {},
   "outputs": [
    {
     "name": "stdout",
     "output_type": "stream",
     "text": [
      "(CVXPY) Aug 22 11:43:54 PM: Encountered unexpected exception importing solver GLPK:\n",
      "ImportError(\"cannot import name 'glpk' from 'cvxopt' (/nas/longleaf/rhel8/apps/python/3.9.6/lib/python3.9/site-packages/cvxopt-1.2.6-py3.9-linux-x86_64.egg/cvxopt/__init__.py)\")\n",
      "(CVXPY) Aug 22 11:43:54 PM: Encountered unexpected exception importing solver GLPK_MI:\n",
      "ImportError(\"cannot import name 'glpk' from 'cvxopt' (/nas/longleaf/rhel8/apps/python/3.9.6/lib/python3.9/site-packages/cvxopt-1.2.6-py3.9-linux-x86_64.egg/cvxopt/__init__.py)\")\n",
      "/work/users/n/h/nolanh/quickstart/ROCCO/ENCFF009NCL.bam: running bamSitesToWig.py\n",
      "/work/users/n/h/nolanh/quickstart/ROCCO/ENCFF110EWQ.bam: running bamSitesToWig.py\n",
      "/work/users/n/h/nolanh/quickstart/ROCCO/ENCFF231YYD.bam: running bamSitesToWig.py\n",
      "/work/users/n/h/nolanh/quickstart/ROCCO/ENCFF395ZMS.bam: running bamSitesToWig.py\n",
      "/work/users/n/h/nolanh/quickstart/ROCCO/ENCFF495DQP.bam: running bamSitesToWig.py\n",
      "/work/users/n/h/nolanh/quickstart/ROCCO/ENCFF621AYF.bam: running bamSitesToWig.py\n",
      "/work/users/n/h/nolanh/quickstart/ROCCO/ENCFF767FGV.bam: running bamSitesToWig.py\n",
      "/work/users/n/h/nolanh/quickstart/ROCCO/ENCFF797EAL.bam: running bamSitesToWig.py\n",
      "/work/users/n/h/nolanh/quickstart/ROCCO/ENCFF801THG.bam: running bamSitesToWig.py\n",
      "/work/users/n/h/nolanh/quickstart/ROCCO/ENCFF948HNW.bam: running bamSitesToWig.py\n",
      "rocco_aux.run_par: running following commmands in parallel\n",
      "['python3 /work/users/n/h/nolanh/quickstart/ROCCO/rocco/bamSitesToWig.py -i /work/users/n/h/nolanh/quickstart/ROCCO/ENCFF948HNW.bam -c hg38.sizes -w /work/users/n/h/nolanh/quickstart/ROCCO/ENCFF948HNW.bam.bw -r 50 -m atac -p 1 --variable-step', 'python3 /work/users/n/h/nolanh/quickstart/ROCCO/rocco/bamSitesToWig.py -i /work/users/n/h/nolanh/quickstart/ROCCO/ENCFF801THG.bam -c hg38.sizes -w /work/users/n/h/nolanh/quickstart/ROCCO/ENCFF801THG.bam.bw -r 50 -m atac -p 1 --variable-step', 'python3 /work/users/n/h/nolanh/quickstart/ROCCO/rocco/bamSitesToWig.py -i /work/users/n/h/nolanh/quickstart/ROCCO/ENCFF797EAL.bam -c hg38.sizes -w /work/users/n/h/nolanh/quickstart/ROCCO/ENCFF797EAL.bam.bw -r 50 -m atac -p 1 --variable-step', 'python3 /work/users/n/h/nolanh/quickstart/ROCCO/rocco/bamSitesToWig.py -i /work/users/n/h/nolanh/quickstart/ROCCO/ENCFF767FGV.bam -c hg38.sizes -w /work/users/n/h/nolanh/quickstart/ROCCO/ENCFF767FGV.bam.bw -r 50 -m atac -p 1 --variable-step', 'python3 /work/users/n/h/nolanh/quickstart/ROCCO/rocco/bamSitesToWig.py -i /work/users/n/h/nolanh/quickstart/ROCCO/ENCFF621AYF.bam -c hg38.sizes -w /work/users/n/h/nolanh/quickstart/ROCCO/ENCFF621AYF.bam.bw -r 50 -m atac -p 1 --variable-step', 'python3 /work/users/n/h/nolanh/quickstart/ROCCO/rocco/bamSitesToWig.py -i /work/users/n/h/nolanh/quickstart/ROCCO/ENCFF495DQP.bam -c hg38.sizes -w /work/users/n/h/nolanh/quickstart/ROCCO/ENCFF495DQP.bam.bw -r 50 -m atac -p 1 --variable-step', 'python3 /work/users/n/h/nolanh/quickstart/ROCCO/rocco/bamSitesToWig.py -i /work/users/n/h/nolanh/quickstart/ROCCO/ENCFF395ZMS.bam -c hg38.sizes -w /work/users/n/h/nolanh/quickstart/ROCCO/ENCFF395ZMS.bam.bw -r 50 -m atac -p 1 --variable-step', 'python3 /work/users/n/h/nolanh/quickstart/ROCCO/rocco/bamSitesToWig.py -i /work/users/n/h/nolanh/quickstart/ROCCO/ENCFF231YYD.bam -c hg38.sizes -w /work/users/n/h/nolanh/quickstart/ROCCO/ENCFF231YYD.bam.bw -r 50 -m atac -p 1 --variable-step', 'python3 /work/users/n/h/nolanh/quickstart/ROCCO/rocco/bamSitesToWig.py -i /work/users/n/h/nolanh/quickstart/ROCCO/ENCFF110EWQ.bam -c hg38.sizes -w /work/users/n/h/nolanh/quickstart/ROCCO/ENCFF110EWQ.bam.bw -r 50 -m atac -p 1 --variable-step', 'python3 /work/users/n/h/nolanh/quickstart/ROCCO/rocco/bamSitesToWig.py -i /work/users/n/h/nolanh/quickstart/ROCCO/ENCFF009NCL.bam -c hg38.sizes -w /work/users/n/h/nolanh/quickstart/ROCCO/ENCFF009NCL.bam.bw -r 50 -m atac -p 1 --variable-step']\n",
      "\n",
      "cmd: python3 /work/users/n/h/nolanh/quickstart/ROCCO/rocco/bamSitesToWig.py -i /work/users/n/h/nolanh/quickstart/ROCCO/ENCFF009NCL.bam -c hg38.sizes -w /work/users/n/h/nolanh/quickstart/ROCCO/ENCFF009NCL.bam.bw -r 50 -m atac -p 1 --variable-step\n",
      "retval: 0\n",
      "\n",
      "cmd: python3 /work/users/n/h/nolanh/quickstart/ROCCO/rocco/bamSitesToWig.py -i /work/users/n/h/nolanh/quickstart/ROCCO/ENCFF110EWQ.bam -c hg38.sizes -w /work/users/n/h/nolanh/quickstart/ROCCO/ENCFF110EWQ.bam.bw -r 50 -m atac -p 1 --variable-step\n",
      "retval: 0\n",
      "\n",
      "cmd: python3 /work/users/n/h/nolanh/quickstart/ROCCO/rocco/bamSitesToWig.py -i /work/users/n/h/nolanh/quickstart/ROCCO/ENCFF231YYD.bam -c hg38.sizes -w /work/users/n/h/nolanh/quickstart/ROCCO/ENCFF231YYD.bam.bw -r 50 -m atac -p 1 --variable-step\n",
      "retval: 0\n",
      "\n",
      "cmd: python3 /work/users/n/h/nolanh/quickstart/ROCCO/rocco/bamSitesToWig.py -i /work/users/n/h/nolanh/quickstart/ROCCO/ENCFF395ZMS.bam -c hg38.sizes -w /work/users/n/h/nolanh/quickstart/ROCCO/ENCFF395ZMS.bam.bw -r 50 -m atac -p 1 --variable-step\n",
      "retval: 0\n",
      "\n",
      "cmd: python3 /work/users/n/h/nolanh/quickstart/ROCCO/rocco/bamSitesToWig.py -i /work/users/n/h/nolanh/quickstart/ROCCO/ENCFF495DQP.bam -c hg38.sizes -w /work/users/n/h/nolanh/quickstart/ROCCO/ENCFF495DQP.bam.bw -r 50 -m atac -p 1 --variable-step\n",
      "retval: 0\n",
      "\n",
      "cmd: python3 /work/users/n/h/nolanh/quickstart/ROCCO/rocco/bamSitesToWig.py -i /work/users/n/h/nolanh/quickstart/ROCCO/ENCFF621AYF.bam -c hg38.sizes -w /work/users/n/h/nolanh/quickstart/ROCCO/ENCFF621AYF.bam.bw -r 50 -m atac -p 1 --variable-step\n",
      "retval: 0\n",
      "\n",
      "cmd: python3 /work/users/n/h/nolanh/quickstart/ROCCO/rocco/bamSitesToWig.py -i /work/users/n/h/nolanh/quickstart/ROCCO/ENCFF767FGV.bam -c hg38.sizes -w /work/users/n/h/nolanh/quickstart/ROCCO/ENCFF767FGV.bam.bw -r 50 -m atac -p 1 --variable-step\n",
      "retval: 0\n",
      "\n",
      "cmd: python3 /work/users/n/h/nolanh/quickstart/ROCCO/rocco/bamSitesToWig.py -i /work/users/n/h/nolanh/quickstart/ROCCO/ENCFF797EAL.bam -c hg38.sizes -w /work/users/n/h/nolanh/quickstart/ROCCO/ENCFF797EAL.bam.bw -r 50 -m atac -p 1 --variable-step\n",
      "retval: 0\n",
      "\n",
      "cmd: python3 /work/users/n/h/nolanh/quickstart/ROCCO/rocco/bamSitesToWig.py -i /work/users/n/h/nolanh/quickstart/ROCCO/ENCFF801THG.bam -c hg38.sizes -w /work/users/n/h/nolanh/quickstart/ROCCO/ENCFF801THG.bam.bw -r 50 -m atac -p 1 --variable-step\n",
      "retval: 0\n",
      "\n",
      "cmd: python3 /work/users/n/h/nolanh/quickstart/ROCCO/rocco/bamSitesToWig.py -i /work/users/n/h/nolanh/quickstart/ROCCO/ENCFF948HNW.bam -c hg38.sizes -w /work/users/n/h/nolanh/quickstart/ROCCO/ENCFF948HNW.bam.bw -r 50 -m atac -p 1 --variable-step\n",
      "retval: 0\n",
      "\n"
     ]
    }
   ],
   "source": [
    "!rocco prep --bamdir ."
   ]
  },
  {
   "cell_type": "markdown",
   "id": "1232bdc9",
   "metadata": {},
   "source": [
    "## `rocco chrom`"
   ]
  },
  {
   "cell_type": "markdown",
   "id": "5e268d4c",
   "metadata": {},
   "source": [
    "Run on chromosome 21 with default parameters"
   ]
  },
  {
   "cell_type": "code",
   "execution_count": 2,
   "id": "cadde6dc",
   "metadata": {},
   "outputs": [
    {
     "name": "stdout",
     "output_type": "stream",
     "text": [
      "ROCCO_chrom: reading wig file tracks_chr21/chr21_ENCFF009NCL.bam.bw.wig\n",
      "ROCCO_chrom: reading wig file tracks_chr21/chr21_ENCFF110EWQ.bam.bw.wig\n",
      "ROCCO_chrom: reading wig file tracks_chr21/chr21_ENCFF231YYD.bam.bw.wig\n",
      "ROCCO_chrom: reading wig file tracks_chr21/chr21_ENCFF395ZMS.bam.bw.wig\n",
      "ROCCO_chrom: reading wig file tracks_chr21/chr21_ENCFF495DQP.bam.bw.wig\n",
      "ROCCO_chrom: reading wig file tracks_chr21/chr21_ENCFF621AYF.bam.bw.wig\n",
      "ROCCO_chrom: reading wig file tracks_chr21/chr21_ENCFF767FGV.bam.bw.wig\n",
      "ROCCO_chrom: reading wig file tracks_chr21/chr21_ENCFF797EAL.bam.bw.wig\n",
      "ROCCO_chrom: reading wig file tracks_chr21/chr21_ENCFF801THG.bam.bw.wig\n",
      "ROCCO_chrom: reading wig file tracks_chr21/chr21_ENCFF948HNW.bam.bw.wig\n",
      "ROCCO_chrom: writing output: ./ROCCO_out_chr21_0.035_1.0_0.0_1.0_1.0_1.0.bed\n"
     ]
    }
   ],
   "source": [
    "!rocco chrom --wig_path tracks_chr21 --chrom chr21"
   ]
  }
 ],
 "metadata": {
  "kernelspec": {
   "display_name": "Python 3 (ipykernel)",
   "language": "python",
   "name": "python3"
  },
  "language_info": {
   "codemirror_mode": {
    "name": "ipython",
    "version": 3
   },
   "file_extension": ".py",
   "mimetype": "text/x-python",
   "name": "python",
   "nbconvert_exporter": "python",
   "pygments_lexer": "ipython3",
   "version": "3.9.6"
  }
 },
 "nbformat": 4,
 "nbformat_minor": 5
}
