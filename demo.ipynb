{
 "cells": [
  {
   "attachments": {},
   "cell_type": "markdown",
   "id": "bc3e9937",
   "metadata": {},
   "source": [
    "# ROCCO Quick Start Demo\n",
    "\n",
    "This notebook consists of three sections.\n",
    "1. BAM Preprocessing\n",
    "1. Running Rocco\n",
    "1. Analyzing Results\n",
    "\n",
    "The first section walks through the BAM --> WIG pipeline to generate ROCCO conformable input from a collection of samples' BAM files.\n",
    "\n",
    "The second section involves running ROCCO for a couple scenarios, and the third section carries out some cursory analysis of results"
   ]
  },
  {
   "attachments": {},
   "cell_type": "markdown",
   "id": "a9b36478",
   "metadata": {},
   "source": [
    "## BAM Preprocessing\n",
    "\n",
    "**Download Input Alignments:** To acquire the ATAC-seq alignments (human lymphoblast) used for this demo, run\n",
    "```\n",
    "xargs -L 1 curl -O -J -L < demo_files/bam_links.txt\n",
    "```\n",
    "in the main `ROCCO` directory.\n",
    "\n",
    "These files are are obtained from the ENCODE project with the follwing [query](https://www.encodeproject.org/search/?type=Experiment&control_type%21=%2A&status=released&perturbed=false&assay_title=ATAC-seq&biosample_ontology.cell_slims=lymphoblast&audit.ERROR.category%21=extremely+low+read+depth&audit.NOT_COMPLIANT.category%21=low+FRiP+score&audit.NOT_COMPLIANT.category%21=poor+library+complexity&audit.NOT_COMPLIANT.category%21=severe+bottlenecking&audit.WARNING.category%21=moderate+library+complexity&audit.WARNING.category%21=mild+to+moderate+bottlenecking&audit.WARNING.category%21=moderate+number+of+reproducible+peaks).\n",
    "\n",
    "The downloaded alignment files have been QC-processed with the [ENCODE ATAC-seq pipeline](https://www.encodeproject.org/atac-seq/). In general, we assume the BAM files used as input to ROCCO have been prepared according to some QC standard---duplicate removal, adapter trimming, etc."
   ]
  },
  {
   "attachments": {},
   "cell_type": "markdown",
   "id": "c72e23a2",
   "metadata": {},
   "source": [
    "#### [`prep_bams.py`](https://nolan-h-hamilton.github.io/ROCCO/prep_bams.html)\n",
    "This script generates a smooth signal track for each sample's BAM file and then divides each into chromosome-specific directories `tracks_<chromosome name>`, thereby providing ROCCO conformable input. If BAM files are not yet indexed, `pysam.index()` is called.\n",
    "\n",
    "Full documentation for this script is available [here](https://nolan-h-hamilton.github.io/ROCCO/prep_bams.html), and this [flowchart](https://github.com/nolan-h-hamilton/ROCCO/blob/main/docs/bamsig_flowchart.png) offers a visualization of the workflow."
   ]
  },
  {
   "cell_type": "code",
   "execution_count": 1,
   "id": "ef44cb63",
   "metadata": {},
   "outputs": [
    {
     "name": "stdout",
     "output_type": "stream",
     "text": [
      "/work/users/n/h/nolanh/ROCCO/ENCFF009NCL.bam: running bamSitesToWig.py\n",
      "/work/users/n/h/nolanh/ROCCO/ENCFF110EWQ.bam: running bamSitesToWig.py\n",
      "/work/users/n/h/nolanh/ROCCO/ENCFF231YYD.bam: running bamSitesToWig.py\n",
      "/work/users/n/h/nolanh/ROCCO/ENCFF395ZMS.bam: running bamSitesToWig.py\n",
      "/work/users/n/h/nolanh/ROCCO/ENCFF495DQP.bam: running bamSitesToWig.py\n",
      "/work/users/n/h/nolanh/ROCCO/ENCFF621AYF.bam: running bamSitesToWig.py\n",
      "/work/users/n/h/nolanh/ROCCO/ENCFF767FGV.bam: running bamSitesToWig.py\n",
      "/work/users/n/h/nolanh/ROCCO/ENCFF797EAL.bam: running bamSitesToWig.py\n",
      "/work/users/n/h/nolanh/ROCCO/ENCFF801THG.bam: running bamSitesToWig.py\n",
      "/work/users/n/h/nolanh/ROCCO/ENCFF948HNW.bam: running bamSitesToWig.py\n",
      "cmd: python3 /work/users/n/h/nolanh/ROCCO/pepatac/bamSitesToWig.py -i /work/users/n/h/nolanh/ROCCO/ENCFF009NCL.bam -c hg38.sizes -w /work/users/n/h/nolanh/ROCCO/ENCFF009NCL.bam.bw -r 50 -m atac -p 1 --variable-step\n",
      "retval: 0\n",
      "\n",
      "cmd: python3 /work/users/n/h/nolanh/ROCCO/pepatac/bamSitesToWig.py -i /work/users/n/h/nolanh/ROCCO/ENCFF110EWQ.bam -c hg38.sizes -w /work/users/n/h/nolanh/ROCCO/ENCFF110EWQ.bam.bw -r 50 -m atac -p 1 --variable-step\n",
      "retval: 0\n",
      "\n",
      "cmd: python3 /work/users/n/h/nolanh/ROCCO/pepatac/bamSitesToWig.py -i /work/users/n/h/nolanh/ROCCO/ENCFF231YYD.bam -c hg38.sizes -w /work/users/n/h/nolanh/ROCCO/ENCFF231YYD.bam.bw -r 50 -m atac -p 1 --variable-step\n",
      "retval: 0\n",
      "\n",
      "cmd: python3 /work/users/n/h/nolanh/ROCCO/pepatac/bamSitesToWig.py -i /work/users/n/h/nolanh/ROCCO/ENCFF395ZMS.bam -c hg38.sizes -w /work/users/n/h/nolanh/ROCCO/ENCFF395ZMS.bam.bw -r 50 -m atac -p 1 --variable-step\n",
      "retval: 0\n",
      "\n",
      "cmd: python3 /work/users/n/h/nolanh/ROCCO/pepatac/bamSitesToWig.py -i /work/users/n/h/nolanh/ROCCO/ENCFF495DQP.bam -c hg38.sizes -w /work/users/n/h/nolanh/ROCCO/ENCFF495DQP.bam.bw -r 50 -m atac -p 1 --variable-step\n",
      "retval: 0\n",
      "\n",
      "cmd: python3 /work/users/n/h/nolanh/ROCCO/pepatac/bamSitesToWig.py -i /work/users/n/h/nolanh/ROCCO/ENCFF621AYF.bam -c hg38.sizes -w /work/users/n/h/nolanh/ROCCO/ENCFF621AYF.bam.bw -r 50 -m atac -p 1 --variable-step\n",
      "retval: 0\n",
      "\n",
      "cmd: python3 /work/users/n/h/nolanh/ROCCO/pepatac/bamSitesToWig.py -i /work/users/n/h/nolanh/ROCCO/ENCFF767FGV.bam -c hg38.sizes -w /work/users/n/h/nolanh/ROCCO/ENCFF767FGV.bam.bw -r 50 -m atac -p 1 --variable-step\n",
      "retval: 0\n",
      "\n",
      "cmd: python3 /work/users/n/h/nolanh/ROCCO/pepatac/bamSitesToWig.py -i /work/users/n/h/nolanh/ROCCO/ENCFF797EAL.bam -c hg38.sizes -w /work/users/n/h/nolanh/ROCCO/ENCFF797EAL.bam.bw -r 50 -m atac -p 1 --variable-step\n",
      "retval: 0\n",
      "\n",
      "cmd: python3 /work/users/n/h/nolanh/ROCCO/pepatac/bamSitesToWig.py -i /work/users/n/h/nolanh/ROCCO/ENCFF801THG.bam -c hg38.sizes -w /work/users/n/h/nolanh/ROCCO/ENCFF801THG.bam.bw -r 50 -m atac -p 1 --variable-step\n",
      "retval: 0\n",
      "\n",
      "cmd: python3 /work/users/n/h/nolanh/ROCCO/pepatac/bamSitesToWig.py -i /work/users/n/h/nolanh/ROCCO/ENCFF948HNW.bam -c hg38.sizes -w /work/users/n/h/nolanh/ROCCO/ENCFF948HNW.bam.bw -r 50 -m atac -p 1 --variable-step\n",
      "retval: 0\n",
      "\n"
     ]
    }
   ],
   "source": [
    "# usage: prep_bams.py [-h] [-i BAMDIR] [-o OUTDIR] [-s SIZES] [-L INTERVAL_LENGTH] [--multi] [-c CORES]\n",
    "# Except for `--multi`, we use default parameters: BAMDIR = '.',\n",
    "# OUTDIR= '.', SIZES = 'hg38', INTERVAL_LENGTH = 50, CORES = 1\n",
    "!python prep_bams.py --multi"
   ]
  },
  {
   "attachments": {},
   "cell_type": "markdown",
   "id": "e0351b5c",
   "metadata": {},
   "source": [
    "## Running ROCCO\n",
    "Note, to run ROCCO in this section, we use the default ECOS solver. If the MOSEK solver is available, you can add `--solver MOSEK` to each command for improved efficiency"
   ]
  },
  {
   "attachments": {},
   "cell_type": "markdown",
   "id": "c82e9d7b",
   "metadata": {},
   "source": [
    "#### 1) Run on a Single Chromosome (`chr22`) with Default Parameters\n",
    "[`ROCCO_chrom.py`](https://nolan-h-hamilton.github.io/ROCCO/ROCCO_chrom.html) builds $\\mathbf{S}_{chr}$ from wig files in `--wig_path` before solving the optimization problem underlying ROCCO. We use the `--verbose` flag for demonstration"
   ]
  },
  {
   "cell_type": "code",
   "execution_count": 2,
   "id": "92b108eb",
   "metadata": {},
   "outputs": [
    {
     "name": "stdout",
     "output_type": "stream",
     "text": [
      "(CVXPY) Jun 30 07:24:14 PM: Encountered unexpected exception importing solver GLPK:\n",
      "ImportError(\"cannot import name 'glpk' from 'cvxopt' (/nas/longleaf/rhel8/apps/python/3.9.6/lib/python3.9/site-packages/cvxopt-1.2.6-py3.9-linux-x86_64.egg/cvxopt/__init__.py)\")\n",
      "(CVXPY) Jun 30 07:24:14 PM: Encountered unexpected exception importing solver GLPK_MI:\n",
      "ImportError(\"cannot import name 'glpk' from 'cvxopt' (/nas/longleaf/rhel8/apps/python/3.9.6/lib/python3.9/site-packages/cvxopt-1.2.6-py3.9-linux-x86_64.egg/cvxopt/__init__.py)\")\n",
      "ROCCO_chrom: reading wig file tracks_chr22/chr22_ENCFF009NCL.bam.bw.wig\n",
      "ROCCO_chrom: reading wig file tracks_chr22/chr22_ENCFF110EWQ.bam.bw.wig\n",
      "ROCCO_chrom: reading wig file tracks_chr22/chr22_ENCFF231YYD.bam.bw.wig\n",
      "ROCCO_chrom: reading wig file tracks_chr22/chr22_ENCFF395ZMS.bam.bw.wig\n",
      "ROCCO_chrom: reading wig file tracks_chr22/chr22_ENCFF495DQP.bam.bw.wig\n",
      "ROCCO_chrom: reading wig file tracks_chr22/chr22_ENCFF621AYF.bam.bw.wig\n",
      "ROCCO_chrom: reading wig file tracks_chr22/chr22_ENCFF767FGV.bam.bw.wig\n",
      "ROCCO_chrom: reading wig file tracks_chr22/chr22_ENCFF797EAL.bam.bw.wig\n",
      "ROCCO_chrom: reading wig file tracks_chr22/chr22_ENCFF801THG.bam.bw.wig\n",
      "ROCCO_chrom: reading wig file tracks_chr22/chr22_ENCFF948HNW.bam.bw.wig\n",
      "ROCCO_chrom: writing output: ./ROCCO_out_chr22_0.035_1.0_0.0_1.0_1.0_1.0.bed\n"
     ]
    }
   ],
   "source": [
    "!python ROCCO_chrom.py --chrom chr22 --wig_path tracks_chr22"
   ]
  },
  {
   "attachments": {},
   "cell_type": "markdown",
   "id": "a24d5aba",
   "metadata": {},
   "source": [
    "#### 2) Run on Multiple Chromosomes with Default Parameters\n",
    "[`ROCCO.py`](https://nolan-h-hamilton.github.io/ROCCO/ROCCO.html) will look for chromosome-specific parameters in the CSV file specified with the `--param_file` argument, in our case, `demo_files/demo_params.csv`. Since a `NULL` entry is present in each cell in this file, the genome-wide defaults will be used.\n",
    "\n",
    "**`demo_files/demo_params.csv`**\n",
    "```\n",
    "chromosome,input_path,budget,gamma,tau,c1,c2,c3\n",
    "chr20,tracks_chr20,NULL,NULL,NULL,NULL,NULL,NULL\n",
    "chr21,tracks_chr21,NULL,NULL,NULL,NULL,NULL,NULL\n",
    "chr22,tracks_chr22,NULL,NULL,NULL,NULL,NULL,NULL\n",
    "```"
   ]
  },
  {
   "cell_type": "code",
   "execution_count": 3,
   "id": "606b35b1",
   "metadata": {},
   "outputs": [
    {
     "name": "stdout",
     "output_type": "stream",
     "text": [
      "running each ROCCO_chrom.py job sequentially\n",
      "job 0: python3 /work/users/n/h/nolanh/ROCCO/ROCCO_chrom.py --chrom chr20 --wig_path tracks_chr20 --budget 0.035 --gamma 1.0 --tau 0.0 --c1 1.0 --c2 1.0 --c3 1.0 --solver ECOS --bed_format 3 --outdir demo_outdir --rr_iter 50\n",
      "ROCCO_chrom: reading wig file tracks_chr20/chr20_ENCFF009NCL.bam.bw.wig\n",
      "ROCCO_chrom: reading wig file tracks_chr20/chr20_ENCFF110EWQ.bam.bw.wig\n",
      "ROCCO_chrom: reading wig file tracks_chr20/chr20_ENCFF231YYD.bam.bw.wig\n",
      "ROCCO_chrom: reading wig file tracks_chr20/chr20_ENCFF395ZMS.bam.bw.wig\n",
      "ROCCO_chrom: reading wig file tracks_chr20/chr20_ENCFF495DQP.bam.bw.wig\n",
      "ROCCO_chrom: reading wig file tracks_chr20/chr20_ENCFF621AYF.bam.bw.wig\n",
      "ROCCO_chrom: reading wig file tracks_chr20/chr20_ENCFF767FGV.bam.bw.wig\n",
      "ROCCO_chrom: reading wig file tracks_chr20/chr20_ENCFF797EAL.bam.bw.wig\n",
      "ROCCO_chrom: reading wig file tracks_chr20/chr20_ENCFF801THG.bam.bw.wig\n",
      "ROCCO_chrom: reading wig file tracks_chr20/chr20_ENCFF948HNW.bam.bw.wig\n",
      "ROCCO_chrom: writing output: demo_outdir/ROCCO_out_chr20_0.035_1.0_0.0_1.0_1.0_1.0.bed\n",
      "\n",
      "job 1: python3 /work/users/n/h/nolanh/ROCCO/ROCCO_chrom.py --chrom chr21 --wig_path tracks_chr21 --budget 0.035 --gamma 1.0 --tau 0.0 --c1 1.0 --c2 1.0 --c3 1.0 --solver ECOS --bed_format 3 --outdir demo_outdir --rr_iter 50\n",
      "ROCCO_chrom: reading wig file tracks_chr21/chr21_ENCFF009NCL.bam.bw.wig\n",
      "ROCCO_chrom: reading wig file tracks_chr21/chr21_ENCFF110EWQ.bam.bw.wig\n",
      "ROCCO_chrom: reading wig file tracks_chr21/chr21_ENCFF231YYD.bam.bw.wig\n",
      "ROCCO_chrom: reading wig file tracks_chr21/chr21_ENCFF395ZMS.bam.bw.wig\n",
      "ROCCO_chrom: reading wig file tracks_chr21/chr21_ENCFF495DQP.bam.bw.wig\n",
      "ROCCO_chrom: reading wig file tracks_chr21/chr21_ENCFF621AYF.bam.bw.wig\n",
      "ROCCO_chrom: reading wig file tracks_chr21/chr21_ENCFF767FGV.bam.bw.wig\n",
      "ROCCO_chrom: reading wig file tracks_chr21/chr21_ENCFF797EAL.bam.bw.wig\n",
      "ROCCO_chrom: reading wig file tracks_chr21/chr21_ENCFF801THG.bam.bw.wig\n",
      "ROCCO_chrom: reading wig file tracks_chr21/chr21_ENCFF948HNW.bam.bw.wig\n",
      "ROCCO_chrom: writing output: demo_outdir/ROCCO_out_chr21_0.035_1.0_0.0_1.0_1.0_1.0.bed\n",
      "\n",
      "job 2: python3 /work/users/n/h/nolanh/ROCCO/ROCCO_chrom.py --chrom chr22 --wig_path tracks_chr22 --budget 0.035 --gamma 1.0 --tau 0.0 --c1 1.0 --c2 1.0 --c3 1.0 --solver ECOS --bed_format 3 --outdir demo_outdir --rr_iter 50\n",
      "ROCCO_chrom: reading wig file tracks_chr22/chr22_ENCFF009NCL.bam.bw.wig\n",
      "ROCCO_chrom: reading wig file tracks_chr22/chr22_ENCFF110EWQ.bam.bw.wig\n",
      "ROCCO_chrom: reading wig file tracks_chr22/chr22_ENCFF231YYD.bam.bw.wig\n",
      "ROCCO_chrom: reading wig file tracks_chr22/chr22_ENCFF395ZMS.bam.bw.wig\n",
      "ROCCO_chrom: reading wig file tracks_chr22/chr22_ENCFF495DQP.bam.bw.wig\n",
      "ROCCO_chrom: reading wig file tracks_chr22/chr22_ENCFF621AYF.bam.bw.wig\n",
      "ROCCO_chrom: reading wig file tracks_chr22/chr22_ENCFF767FGV.bam.bw.wig\n",
      "ROCCO_chrom: reading wig file tracks_chr22/chr22_ENCFF797EAL.bam.bw.wig\n",
      "ROCCO_chrom: reading wig file tracks_chr22/chr22_ENCFF801THG.bam.bw.wig\n",
      "ROCCO_chrom: reading wig file tracks_chr22/chr22_ENCFF948HNW.bam.bw.wig\n",
      "ROCCO_chrom: writing output: demo_outdir/ROCCO_out_chr22_0.035_1.0_0.0_1.0_1.0_1.0.bed\n",
      "\n",
      "combining output files --> ROCCO_out_combined.bed\n"
     ]
    }
   ],
   "source": [
    "!python ROCCO.py --param_file demo_files/demo_params.csv --combine ROCCO_out_combined.bed --outdir demo_outdir"
   ]
  },
  {
   "attachments": {},
   "cell_type": "markdown",
   "id": "79ba5c6b",
   "metadata": {},
   "source": [
    "#### 3) Run on Multiple Chromosomes with Variable Budgets and MOSEK Solver\n",
    "\n",
    "We run ROCCO over chromosomes 17-19 with specific budgets for each. In this example, budgets are computed loosely based on gene density of the respective chromosome.\n",
    "**spec_params.csv**\n",
    "```\n",
    "chromosome,input_path,budget,gamma,tau,c1,c2,c3\n",
    "chr17,tracks_chr17,0.04,NULL,NULL,NULL,NULL,NULL\n",
    "chr18,tracks_chr18,0.03,NULL,NULL,NULL,NULL,NULL\n",
    "chr19,tracks_chr19,0.05,NULL,NULL,NULL,NULL,NULL\n",
    "```\n",
    "\n"
   ]
  },
  {
   "cell_type": "code",
   "execution_count": 4,
   "id": "1e7bc7d6",
   "metadata": {},
   "outputs": [
    {
     "name": "stdout",
     "output_type": "stream",
     "text": [
      "running each ROCCO_chrom.py job sequentially\n",
      "job 0: python3 /work/users/n/h/nolanh/ROCCO/ROCCO_chrom.py --chrom chr17 --wig_path tracks_chr17 --budget 0.04 --gamma 1.0 --tau 0.0 --c1 1.0 --c2 1.0 --c3 1.0 --solver ECOS --bed_format 3 --outdir spec_outdir --rr_iter 50\n",
      "ROCCO_chrom: reading wig file tracks_chr17/chr17_ENCFF009NCL.bam.bw.wig\n",
      "ROCCO_chrom: reading wig file tracks_chr17/chr17_ENCFF110EWQ.bam.bw.wig\n",
      "ROCCO_chrom: reading wig file tracks_chr17/chr17_ENCFF231YYD.bam.bw.wig\n",
      "ROCCO_chrom: reading wig file tracks_chr17/chr17_ENCFF395ZMS.bam.bw.wig\n",
      "ROCCO_chrom: reading wig file tracks_chr17/chr17_ENCFF495DQP.bam.bw.wig\n",
      "ROCCO_chrom: reading wig file tracks_chr17/chr17_ENCFF621AYF.bam.bw.wig\n",
      "ROCCO_chrom: reading wig file tracks_chr17/chr17_ENCFF767FGV.bam.bw.wig\n",
      "ROCCO_chrom: reading wig file tracks_chr17/chr17_ENCFF797EAL.bam.bw.wig\n",
      "ROCCO_chrom: reading wig file tracks_chr17/chr17_ENCFF801THG.bam.bw.wig\n",
      "ROCCO_chrom: reading wig file tracks_chr17/chr17_ENCFF948HNW.bam.bw.wig\n",
      "ROCCO_chrom: writing output: spec_outdir/ROCCO_out_chr17_0.04_1.0_0.0_1.0_1.0_1.0.bed\n",
      "\n",
      "job 1: python3 /work/users/n/h/nolanh/ROCCO/ROCCO_chrom.py --chrom chr18 --wig_path tracks_chr18 --budget 0.03 --gamma 1.0 --tau 0.0 --c1 1.0 --c2 1.0 --c3 1.0 --solver ECOS --bed_format 3 --outdir spec_outdir --rr_iter 50\n",
      "ROCCO_chrom: reading wig file tracks_chr18/chr18_ENCFF009NCL.bam.bw.wig\n",
      "ROCCO_chrom: reading wig file tracks_chr18/chr18_ENCFF110EWQ.bam.bw.wig\n",
      "ROCCO_chrom: reading wig file tracks_chr18/chr18_ENCFF231YYD.bam.bw.wig\n",
      "ROCCO_chrom: reading wig file tracks_chr18/chr18_ENCFF395ZMS.bam.bw.wig\n",
      "ROCCO_chrom: reading wig file tracks_chr18/chr18_ENCFF495DQP.bam.bw.wig\n",
      "ROCCO_chrom: reading wig file tracks_chr18/chr18_ENCFF621AYF.bam.bw.wig\n",
      "ROCCO_chrom: reading wig file tracks_chr18/chr18_ENCFF767FGV.bam.bw.wig\n",
      "ROCCO_chrom: reading wig file tracks_chr18/chr18_ENCFF797EAL.bam.bw.wig\n",
      "ROCCO_chrom: reading wig file tracks_chr18/chr18_ENCFF801THG.bam.bw.wig\n",
      "ROCCO_chrom: reading wig file tracks_chr18/chr18_ENCFF948HNW.bam.bw.wig\n",
      "ROCCO_chrom: writing output: spec_outdir/ROCCO_out_chr18_0.03_1.0_0.0_1.0_1.0_1.0.bed\n",
      "\n",
      "job 2: python3 /work/users/n/h/nolanh/ROCCO/ROCCO_chrom.py --chrom chr19 --wig_path tracks_chr19 --budget 0.05 --gamma 1.0 --tau 0.0 --c1 1.0 --c2 1.0 --c3 1.0 --solver ECOS --bed_format 3 --outdir spec_outdir --rr_iter 50\n",
      "ROCCO_chrom: reading wig file tracks_chr19/chr19_ENCFF009NCL.bam.bw.wig\n",
      "ROCCO_chrom: reading wig file tracks_chr19/chr19_ENCFF110EWQ.bam.bw.wig\n",
      "ROCCO_chrom: reading wig file tracks_chr19/chr19_ENCFF231YYD.bam.bw.wig\n",
      "ROCCO_chrom: reading wig file tracks_chr19/chr19_ENCFF395ZMS.bam.bw.wig\n",
      "ROCCO_chrom: reading wig file tracks_chr19/chr19_ENCFF495DQP.bam.bw.wig\n",
      "ROCCO_chrom: reading wig file tracks_chr19/chr19_ENCFF621AYF.bam.bw.wig\n",
      "ROCCO_chrom: reading wig file tracks_chr19/chr19_ENCFF767FGV.bam.bw.wig\n",
      "ROCCO_chrom: reading wig file tracks_chr19/chr19_ENCFF797EAL.bam.bw.wig\n",
      "ROCCO_chrom: reading wig file tracks_chr19/chr19_ENCFF801THG.bam.bw.wig\n",
      "ROCCO_chrom: reading wig file tracks_chr19/chr19_ENCFF948HNW.bam.bw.wig\n",
      "ROCCO_chrom: writing output: spec_outdir/ROCCO_out_chr19_0.05_1.0_0.0_1.0_1.0_1.0.bed\n",
      "\n",
      "combining output files --> spec_combined.bed\n"
     ]
    }
   ],
   "source": [
    "!python ROCCO.py --param_file spec_params.csv --combine spec_combined.bed --outdir spec_outdir "
   ]
  },
  {
   "attachments": {},
   "cell_type": "markdown",
   "id": "5f522ac0",
   "metadata": {},
   "source": [
    "## Analyzing Results \n"
   ]
  },
  {
   "attachments": {},
   "cell_type": "markdown",
   "id": "cceebde0",
   "metadata": {},
   "source": [
    "#### ROCCO predicted peak regions over `chr22` using default parameters\n",
    "IDR thresholded peaks and fold change signals from ENCODE are included\n",
    "![Alt text](demo_files/demo1.png)"
   ]
  },
  {
   "attachments": {},
   "cell_type": "markdown",
   "id": "9f966503",
   "metadata": {},
   "source": [
    "#### Peak Summary for Variable Budgets, Human Chromosomes 17-19\n",
    "\n",
    "We first create a size file including chromosomes 17-19 so we can call `bedtools summary` on the peak results\n",
    "\n",
    "**chroms.size**\n",
    "```\n",
    "chr17\t83257441\n",
    "chr18\t80373285\n",
    "chr19\t58617616\n",
    "```"
   ]
  },
  {
   "cell_type": "code",
   "execution_count": 5,
   "id": "e62a12b6",
   "metadata": {},
   "outputs": [
    {
     "name": "stdout",
     "output_type": "stream",
     "text": [
      "chrom  num_records  total_bp  chrom_frac_genome  frac_all_ivls  frac_all_bp  min    max     mean\n",
      "chr17  4706         3326300   0.37461            0.386          0.384        50     13100   706.821\n",
      "chr18  4059         2410850   0.36164            0.333          0.278        50     7050    593.952\n",
      "chr19  3440         2927250   0.26375            0.282          0.338        50     14650   850.945\n",
      "all    12205        8664400   1.0                1.0            50           14650  709.91  \n"
     ]
    }
   ],
   "source": [
    "!bedtools summary -i spec_combined.bed -g chroms.size | column -t"
   ]
  }
 ],
 "metadata": {
  "kernelspec": {
   "display_name": "Python 3 (ipykernel)",
   "language": "python",
   "name": "python3"
  },
  "language_info": {
   "codemirror_mode": {
    "name": "ipython",
    "version": 3
   },
   "file_extension": ".py",
   "mimetype": "text/x-python",
   "name": "python",
   "nbconvert_exporter": "python",
   "pygments_lexer": "ipython3",
   "version": "3.9.6"
  }
 },
 "nbformat": 4,
 "nbformat_minor": 5
}
