{
 "cells": [
  {
   "attachments": {},
   "cell_type": "markdown",
   "id": "bc3e9937",
   "metadata": {},
   "source": [
    "# ROCCO Quick Start Demo\n",
    "\n",
    "This notebook consists of three sections.\n",
    "1. BAM Preprocessing\n",
    "1. Running Rocco\n",
    "1. Analyzing Results\n",
    "\n",
    "The first section walks through the BAM --> WIG pipeline to generate ROCCO conformable input from a collection of samples' BAM files.\n",
    "\n",
    "The second section involves running ROCCO for a couple scenarios, and the third section carries out some cursory analysis of results"
   ]
  },
  {
   "attachments": {},
   "cell_type": "markdown",
   "id": "a9b36478",
   "metadata": {},
   "source": [
    "## BAM Preprocessing\n",
    "\n",
    "**Download Input Alignments:** To acquire the ATAC-seq alignments (human lymphoblast) used for this demo, run\n",
    "```\n",
    "xargs -L 1 curl -O -J -L < demo_files/bam_links.txt\n",
    "```\n",
    "in the main `ROCCO` directory.\n",
    "\n",
    "These files are are obtained from the ENCODE project with the follwing [query](https://www.encodeproject.org/search/?type=Experiment&control_type%21=%2A&status=released&perturbed=false&assay_title=ATAC-seq&biosample_ontology.cell_slims=lymphoblast&audit.ERROR.category%21=extremely+low+read+depth&audit.NOT_COMPLIANT.category%21=low+FRiP+score&audit.NOT_COMPLIANT.category%21=poor+library+complexity&audit.NOT_COMPLIANT.category%21=severe+bottlenecking&audit.WARNING.category%21=moderate+library+complexity&audit.WARNING.category%21=mild+to+moderate+bottlenecking&audit.WARNING.category%21=moderate+number+of+reproducible+peaks).\n",
    "\n",
    "The downloaded alignment files have been QC-processed with the [ENCODE ATAC-seq pipeline](https://www.encodeproject.org/atac-seq/). In general, we assume the BAM files used as input to ROCCO have been prepared according to some QC standard---duplicate removal, adapter trimming, etc."
   ]
  },
  {
   "attachments": {},
   "cell_type": "markdown",
   "id": "c72e23a2",
   "metadata": {},
   "source": [
    "#### [`prep_bams.py`](https://nolan-h-hamilton.github.io/ROCCO/prep_bams.html)\n",
    "\n",
    "```\n",
    "prep_bams.py [-h] [-i BAMDIR] [-o OUTDIR] [-s SIZES] [-L INTERVAL_LENGTH] [--multi] [-c CORES]\n",
    "\n",
    "    default parameters:  `BAMDIR = '.', OUTDIR= '.', SIZES = 'hg38', INTERVAL_LENGTH = 50, CORES = 1\n",
    "```\n",
    "This script generates a smooth signal track for each sample's BAM file and then divides each into chromosome-specific directories `tracks_<chromosome name>`, thereby providing ROCCO conformable input. The script will call `pysam.index()` for any BAM files that have not yet been indexed. Use `samtools index` at the command line, alternatively.\n",
    "\n",
    "Full documentation for this script is available [here](https://nolan-h-hamilton.github.io/ROCCO/prep_bams.html), and this [flowchart](https://github.com/nolan-h-hamilton/ROCCO/blob/main/docs/bamsig_flowchart.png) offers a visualization of the workflow."
   ]
  },
  {
   "cell_type": "code",
   "execution_count": 1,
   "id": "ef44cb63",
   "metadata": {},
   "outputs": [
    {
     "name": "stdout",
     "output_type": "stream",
     "text": [
      "/work/users/n/h/nolanh/ROCCO/ENCFF009NCL.bam: running bamSitesToWig.py\n",
      "/work/users/n/h/nolanh/ROCCO/ENCFF110EWQ.bam: running bamSitesToWig.py\n",
      "/work/users/n/h/nolanh/ROCCO/ENCFF231YYD.bam: running bamSitesToWig.py\n",
      "/work/users/n/h/nolanh/ROCCO/ENCFF395ZMS.bam: running bamSitesToWig.py\n",
      "/work/users/n/h/nolanh/ROCCO/ENCFF495DQP.bam: running bamSitesToWig.py\n",
      "/work/users/n/h/nolanh/ROCCO/ENCFF621AYF.bam: running bamSitesToWig.py\n",
      "/work/users/n/h/nolanh/ROCCO/ENCFF767FGV.bam: running bamSitesToWig.py\n",
      "/work/users/n/h/nolanh/ROCCO/ENCFF797EAL.bam: running bamSitesToWig.py\n",
      "/work/users/n/h/nolanh/ROCCO/ENCFF801THG.bam: running bamSitesToWig.py\n",
      "/work/users/n/h/nolanh/ROCCO/ENCFF948HNW.bam: running bamSitesToWig.py\n",
      "cmd: python3 /work/users/n/h/nolanh/ROCCO/pepatac/bamSitesToWig.py -i /work/users/n/h/nolanh/ROCCO/ENCFF009NCL.bam -c hg38.sizes -w /work/users/n/h/nolanh/ROCCO/ENCFF009NCL.bam.bw -r 50 -m atac -p 1 --variable-step\n",
      "retval: 0\n",
      "\n",
      "cmd: python3 /work/users/n/h/nolanh/ROCCO/pepatac/bamSitesToWig.py -i /work/users/n/h/nolanh/ROCCO/ENCFF110EWQ.bam -c hg38.sizes -w /work/users/n/h/nolanh/ROCCO/ENCFF110EWQ.bam.bw -r 50 -m atac -p 1 --variable-step\n",
      "retval: 0\n",
      "\n",
      "cmd: python3 /work/users/n/h/nolanh/ROCCO/pepatac/bamSitesToWig.py -i /work/users/n/h/nolanh/ROCCO/ENCFF231YYD.bam -c hg38.sizes -w /work/users/n/h/nolanh/ROCCO/ENCFF231YYD.bam.bw -r 50 -m atac -p 1 --variable-step\n",
      "retval: 0\n",
      "\n",
      "cmd: python3 /work/users/n/h/nolanh/ROCCO/pepatac/bamSitesToWig.py -i /work/users/n/h/nolanh/ROCCO/ENCFF395ZMS.bam -c hg38.sizes -w /work/users/n/h/nolanh/ROCCO/ENCFF395ZMS.bam.bw -r 50 -m atac -p 1 --variable-step\n",
      "retval: 0\n",
      "\n",
      "cmd: python3 /work/users/n/h/nolanh/ROCCO/pepatac/bamSitesToWig.py -i /work/users/n/h/nolanh/ROCCO/ENCFF495DQP.bam -c hg38.sizes -w /work/users/n/h/nolanh/ROCCO/ENCFF495DQP.bam.bw -r 50 -m atac -p 1 --variable-step\n",
      "retval: 0\n",
      "\n",
      "cmd: python3 /work/users/n/h/nolanh/ROCCO/pepatac/bamSitesToWig.py -i /work/users/n/h/nolanh/ROCCO/ENCFF621AYF.bam -c hg38.sizes -w /work/users/n/h/nolanh/ROCCO/ENCFF621AYF.bam.bw -r 50 -m atac -p 1 --variable-step\n",
      "retval: 0\n",
      "\n",
      "cmd: python3 /work/users/n/h/nolanh/ROCCO/pepatac/bamSitesToWig.py -i /work/users/n/h/nolanh/ROCCO/ENCFF767FGV.bam -c hg38.sizes -w /work/users/n/h/nolanh/ROCCO/ENCFF767FGV.bam.bw -r 50 -m atac -p 1 --variable-step\n",
      "retval: 0\n",
      "\n",
      "cmd: python3 /work/users/n/h/nolanh/ROCCO/pepatac/bamSitesToWig.py -i /work/users/n/h/nolanh/ROCCO/ENCFF797EAL.bam -c hg38.sizes -w /work/users/n/h/nolanh/ROCCO/ENCFF797EAL.bam.bw -r 50 -m atac -p 1 --variable-step\n",
      "retval: 0\n",
      "\n",
      "cmd: python3 /work/users/n/h/nolanh/ROCCO/pepatac/bamSitesToWig.py -i /work/users/n/h/nolanh/ROCCO/ENCFF801THG.bam -c hg38.sizes -w /work/users/n/h/nolanh/ROCCO/ENCFF801THG.bam.bw -r 50 -m atac -p 1 --variable-step\n",
      "retval: 0\n",
      "\n",
      "cmd: python3 /work/users/n/h/nolanh/ROCCO/pepatac/bamSitesToWig.py -i /work/users/n/h/nolanh/ROCCO/ENCFF948HNW.bam -c hg38.sizes -w /work/users/n/h/nolanh/ROCCO/ENCFF948HNW.bam.bw -r 50 -m atac -p 1 --variable-step\n",
      "retval: 0\n",
      "\n"
     ]
    }
   ],
   "source": [
    "!python prep_bams.py --multi"
   ]
  },
  {
   "attachments": {},
   "cell_type": "markdown",
   "id": "e0351b5c",
   "metadata": {},
   "source": [
    "## Running ROCCO\n",
    "Note, to run ROCCO in this section, we use the default ECOS solver. If the MOSEK solver is available, you can add `--solver MOSEK` to each command for improved efficiency"
   ]
  },
  {
   "attachments": {},
   "cell_type": "markdown",
   "id": "c82e9d7b",
   "metadata": {},
   "source": [
    "#### 1) Run on a Single Chromosome (`chr22`) with Default Parameters\n",
    "[`ROCCO_chrom.py`](https://nolan-h-hamilton.github.io/ROCCO/ROCCO_chrom.html) assembles $\\mathbf{S}_{chr}$ from wig files in `--wig_path` and then solves the optimization problem for the given chromosome."
   ]
  },
  {
   "cell_type": "code",
   "execution_count": 2,
   "id": "92b108eb",
   "metadata": {},
   "outputs": [
    {
     "name": "stdout",
     "output_type": "stream",
     "text": [
      "ROCCO_chrom: reading wig file tracks_chr22/chr22_ENCFF009NCL.bam.bw.wig\n",
      "ROCCO_chrom: reading wig file tracks_chr22/chr22_ENCFF110EWQ.bam.bw.wig\n",
      "ROCCO_chrom: reading wig file tracks_chr22/chr22_ENCFF231YYD.bam.bw.wig\n",
      "ROCCO_chrom: reading wig file tracks_chr22/chr22_ENCFF395ZMS.bam.bw.wig\n",
      "ROCCO_chrom: reading wig file tracks_chr22/chr22_ENCFF495DQP.bam.bw.wig\n",
      "ROCCO_chrom: reading wig file tracks_chr22/chr22_ENCFF621AYF.bam.bw.wig\n",
      "ROCCO_chrom: reading wig file tracks_chr22/chr22_ENCFF767FGV.bam.bw.wig\n",
      "ROCCO_chrom: reading wig file tracks_chr22/chr22_ENCFF797EAL.bam.bw.wig\n",
      "ROCCO_chrom: reading wig file tracks_chr22/chr22_ENCFF801THG.bam.bw.wig\n",
      "ROCCO_chrom: reading wig file tracks_chr22/chr22_ENCFF948HNW.bam.bw.wig\n",
      "ROCCO_chrom: writing output: ./ROCCO_out_chr22_0.035_1.0_0.0_1.0_1.0_1.0.bed\n"
     ]
    }
   ],
   "source": [
    "!python ROCCO_chrom.py --chrom chr22 --wig_path tracks_chr22"
   ]
  },
  {
   "attachments": {},
   "cell_type": "markdown",
   "id": "a24d5aba",
   "metadata": {},
   "source": [
    "#### 2) Run on Multiple Chromosomes with Default Parameters\n",
    "[`ROCCO.py`](https://nolan-h-hamilton.github.io/ROCCO/ROCCO.html) will look for chromosome-specific parameters in the CSV file specified with the `--param_file` argument, in our case, `demo_files/demo_params.csv`. Since a `NULL` entry is present in each cell in this file, the genome-wide defaults will be used. \n",
    "\n",
    "We use the `--multi` flag to run the `ROCCO_chrom.py` jobs simultaneously\n",
    "\n",
    "**`demo_files/demo_params.csv`:**\n",
    "```\n",
    "chromosome,input_path,budget,gamma,tau,c1,c2,c3\n",
    "chr20,tracks_chr20,NULL,NULL,NULL,NULL,NULL,NULL\n",
    "chr21,tracks_chr21,NULL,NULL,NULL,NULL,NULL,NULL\n",
    "chr22,tracks_chr22,NULL,NULL,NULL,NULL,NULL,NULL\n",
    "```"
   ]
  },
  {
   "cell_type": "code",
   "execution_count": 3,
   "id": "606b35b1",
   "metadata": {},
   "outputs": [
    {
     "name": "stdout",
     "output_type": "stream",
     "text": [
      "cmd: python3 /work/users/n/h/nolanh/ROCCO/ROCCO_chrom.py --chrom chr20 --wig_path tracks_chr20 --budget 0.035 --gamma 1.0 --tau 0.0 --c1 1.0 --c2 1.0 --c3 1.0 --solver ECOS --bed_format 3 --outdir demo_outdir --rr_iter 50\n",
      "retval: 0\n",
      "\n",
      "cmd: python3 /work/users/n/h/nolanh/ROCCO/ROCCO_chrom.py --chrom chr21 --wig_path tracks_chr21 --budget 0.035 --gamma 1.0 --tau 0.0 --c1 1.0 --c2 1.0 --c3 1.0 --solver ECOS --bed_format 3 --outdir demo_outdir --rr_iter 50\n",
      "retval: 0\n",
      "\n",
      "cmd: python3 /work/users/n/h/nolanh/ROCCO/ROCCO_chrom.py --chrom chr22 --wig_path tracks_chr22 --budget 0.035 --gamma 1.0 --tau 0.0 --c1 1.0 --c2 1.0 --c3 1.0 --solver ECOS --bed_format 3 --outdir demo_outdir --rr_iter 50\n",
      "retval: 0\n",
      "\n",
      "combining output files --> ROCCO_out_combined.bed\n"
     ]
    }
   ],
   "source": [
    "!python ROCCO.py --param_file demo_files/demo_params.csv --combine ROCCO_out_combined.bed --outdir demo_outdir --multi"
   ]
  },
  {
   "attachments": {},
   "cell_type": "markdown",
   "id": "79ba5c6b",
   "metadata": {},
   "source": [
    "#### 3) Run on Multiple Chromosomes with Variable Budgets\n",
    "\n",
    "We run ROCCO over chromosomes 17-19 with specific budgets for each. In this example, budgets are computed loosely based on gene density of the respective chromosome.\n",
    "\n",
    "**demo_files/spec_params.csv:**\n",
    "```\n",
    "chromosome,input_path,budget,gamma,tau,c1,c2,c3\n",
    "chr17,tracks_chr17,0.04,NULL,NULL,NULL,NULL,NULL\n",
    "chr18,tracks_chr18,0.03,NULL,NULL,NULL,NULL,NULL\n",
    "chr19,tracks_chr19,0.05,NULL,NULL,NULL,NULL,NULL\n",
    "```\n",
    "\n"
   ]
  },
  {
   "cell_type": "code",
   "execution_count": 4,
   "id": "1e7bc7d6",
   "metadata": {},
   "outputs": [
    {
     "name": "stdout",
     "output_type": "stream",
     "text": [
      "cmd: python3 /work/users/n/h/nolanh/ROCCO/ROCCO_chrom.py --chrom chr17 --wig_path tracks_chr17 --budget 0.04 --gamma 1.0 --tau 0.0 --c1 1.0 --c2 1.0 --c3 1.0 --solver ECOS --bed_format 3 --outdir spec_outdir --rr_iter 50\n",
      "retval: 0\n",
      "\n",
      "cmd: python3 /work/users/n/h/nolanh/ROCCO/ROCCO_chrom.py --chrom chr18 --wig_path tracks_chr18 --budget 0.03 --gamma 1.0 --tau 0.0 --c1 1.0 --c2 1.0 --c3 1.0 --solver ECOS --bed_format 3 --outdir spec_outdir --rr_iter 50\n",
      "retval: 0\n",
      "\n",
      "cmd: python3 /work/users/n/h/nolanh/ROCCO/ROCCO_chrom.py --chrom chr19 --wig_path tracks_chr19 --budget 0.05 --gamma 1.0 --tau 0.0 --c1 1.0 --c2 1.0 --c3 1.0 --solver ECOS --bed_format 3 --outdir spec_outdir --rr_iter 50\n",
      "retval: 0\n",
      "\n",
      "combining output files --> spec_combined.bed\n"
     ]
    }
   ],
   "source": [
    "!python ROCCO.py --param_file demo_files/spec_params.csv --combine spec_combined.bed --outdir spec_outdir --multi"
   ]
  },
  {
   "attachments": {},
   "cell_type": "markdown",
   "id": "5f522ac0",
   "metadata": {},
   "source": [
    "## Analyzing Results \n"
   ]
  },
  {
   "attachments": {},
   "cell_type": "markdown",
   "id": "cceebde0",
   "metadata": {},
   "source": [
    "#### ROCCO predicted peak regions over `chr22` using default parameters\n",
    "IDR thresholded peaks and fold change signals from ENCODE are included\n",
    "![Alt text](demo_files/demo1.png)"
   ]
  },
  {
   "attachments": {},
   "cell_type": "markdown",
   "id": "9f966503",
   "metadata": {},
   "source": [
    "#### Peak Summary for Variable Budgets, Human Chromosomes 17-19"
   ]
  },
  {
   "cell_type": "code",
   "execution_count": 5,
   "id": "e62a12b6",
   "metadata": {},
   "outputs": [
    {
     "name": "stdout",
     "output_type": "stream",
     "text": [
      "chrom  num_records  total_bp  chrom_frac_genome  frac_all_ivls  frac_all_bp  min    max     mean\n",
      "chr17  4706         3326300   0.37461            0.386          0.384        50     13100   706.821\n",
      "chr18  4053         2410850   0.36164            0.332          0.278        50     7050    594.831\n",
      "chr19  3438         2927300   0.26375            0.282          0.338        50     14650   851.454\n",
      "all    12197        8664450   1.0                1.0            50           14650  710.38  \n"
     ]
    }
   ],
   "source": [
    "!bedtools summary -i spec_combined.bed -g demo_files/chroms.sizes | column -t"
   ]
  }
 ],
 "metadata": {
  "kernelspec": {
   "display_name": "Python 3 (ipykernel)",
   "language": "python",
   "name": "python3"
  },
  "language_info": {
   "codemirror_mode": {
    "name": "ipython",
    "version": 3
   },
   "file_extension": ".py",
   "mimetype": "text/x-python",
   "name": "python",
   "nbconvert_exporter": "python",
   "pygments_lexer": "ipython3",
   "version": "3.9.6"
  }
 },
 "nbformat": 4,
 "nbformat_minor": 5
}
