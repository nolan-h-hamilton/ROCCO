{
 "cells": [
  {
   "cell_type": "markdown",
   "metadata": {},
   "source": [
    "# ROCCO Demonstration\n",
    "\n",
    "We will use ROCCO to determine consensus peaks on a set of human ATAC-seq tissue (heart ventricle) samples from ENCODE."
   ]
  },
  {
   "cell_type": "markdown",
   "metadata": {},
   "source": [
    "## Data\n",
    "\n",
    "### ATAC-seq alignment files\n",
    "Links to download each sample's corresponding BAM file are listed below.\n",
    "```\n",
    "https://www.encodeproject.org/files/ENCFF352HQI/@@download/ENCFF352HQI.bam\n",
    "https://www.encodeproject.org/files/ENCFF219SJO/@@download/ENCFF219SJO.bam\n",
    "https://www.encodeproject.org/files/ENCFF331WZQ/@@download/ENCFF331WZQ.bam\n",
    "https://www.encodeproject.org/files/ENCFF709NIR/@@download/ENCFF709NIR.bam\n",
    "https://www.encodeproject.org/files/ENCFF018LUV/@@download/ENCFF018LUV.bam\n",
    "https://www.encodeproject.org/files/ENCFF836NAJ/@@download/ENCFF836NAJ.bam\n",
    "```\n",
    "\n",
    "Τhese files are quite large--you can leave out some of the samples but note that this may affect results.\n",
    "\n",
    "### Command-Line Interface vs. API\n",
    "\n",
    "We will use the CLI in this demo to show how to run rocco at the terminal, but note that the API allows users to interact directly with the functions and is therefore much more flexible for customization. For example, rather than rely on the default scoring function $\\mathcal{S}(i)$, users can supply a vector of scores, computed according to their specific needs, to one of the solve functions directly, e.g.,\n",
    "\n",
    "`rocco.solve_relaxation_chrom_glop(custom_scores, ...)`\n",
    "\n",
    "Shell commands are executed in Jupyter notebooks by placing the '!' character before them."
   ]
  },
  {
   "cell_type": "markdown",
   "metadata": {},
   "source": [
    "## Running ROCCO\n",
    "\n",
    "### BAM input\n",
    "\n",
    "With all BAM files and `hg38.sizes` in the current directory, we can run ROCCO with the shell command in the following cell. \n",
    "\n",
    "We will assume that only the relevant BAM files are present in the current directory and use a wildcard `*.bam` to specify the input files. If this is not the case,\n",
    "you can explicitly list space-separated input files, e.g.,\n",
    "\n",
    "```\n",
    "rocco -i ENCFF018LUV.bam ENCFF219SJO.bam [...]\n",
    "```\n",
    "\n",
    "For brevity, we will restrict the demonstration to chromosomes 21 and 22, but you can omit the last command line argument if wishing to run genome-wide."
   ]
  },
  {
   "cell_type": "code",
   "execution_count": null,
   "metadata": {},
   "outputs": [],
   "source": [
    "!rocco -i *.bam -g hg38  --outfile rocco_peaks_bam.bed --chroms chr21 chr22"
   ]
  },
  {
   "cell_type": "markdown",
   "metadata": {},
   "source": [
    "### BigWig Input\n",
    "\n",
    "ROCCO also accepts BigWig input to build the count matrices $\\mathbf{S}_{chr}$. This can be useful if you wish to generate count signals according to a specific protocol that ROCCO's `bamCoverage` wrapper may not support.\n",
    "\n",
    "Note that input BigWig files are treated as final and the options for normalization, binning, etc. are not available for this input format.\n",
    "\n",
    "We will use the BigWig files generated during the BAM-->BigWig step executed as part of the previous command "
   ]
  },
  {
   "cell_type": "code",
   "execution_count": null,
   "metadata": {},
   "outputs": [],
   "source": [
    "!rocco -i *.bam -g hg38  --outfile rocco_peaks_bw.bed --chroms chr21 chr22"
   ]
  },
  {
   "cell_type": "markdown",
   "metadata": {},
   "source": [
    "## Example Behavior\n",
    "\n",
    "In the following images from the UCSC Genome Browser, both ROCCO and the sample-specific IDR-thresholded MACS peaks from ENCODE are displayed for reference."
   ]
  },
  {
   "cell_type": "markdown",
   "metadata": {},
   "source": [
    "#### Example: 25kb region in chromosome 21\n",
    "![browser_demo_chr21](https://github.com/nolan-h-hamilton/ROCCO/assets/57746191/ee3aed4c-7df0-4717-9641-cdbbae5f36d0)\n",
    "\n"
   ]
  },
  {
   "cell_type": "markdown",
   "metadata": {},
   "source": [
    "#### Example: 50kb region in chromosome 22\n",
    "\n",
    "![browser_demo_chr22](https://github.com/nolan-h-hamilton/ROCCO/assets/57746191/9417b778-ed71-4873-ae54-0936f19f74e0)"
   ]
  }
 ],
 "metadata": {
  "kernelspec": {
   "display_name": "scicomp",
   "language": "python",
   "name": "python3"
  },
  "language_info": {
   "codemirror_mode": {
    "name": "ipython",
    "version": 3
   },
   "file_extension": ".py",
   "mimetype": "text/x-python",
   "name": "python",
   "nbconvert_exporter": "python",
   "pygments_lexer": "ipython3",
   "version": "3.10.13"
  }
 },
 "nbformat": 4,
 "nbformat_minor": 2
}
